{
 "cells": [
  {
   "cell_type": "markdown",
   "metadata": {},
   "source": [
    "# Sample Filtration for Modelling"
   ]
  },
  {
   "cell_type": "code",
   "execution_count": null,
   "metadata": {},
   "outputs": [],
   "source": [
    "# This script assigns a Sample_status as \"Perfect\" or \"Correction\", for samples which are perfect for modelling \n",
    "# and samples which might need manual corrections before modelling."
   ]
  },
  {
   "cell_type": "markdown",
   "metadata": {},
   "source": [
    "## Importing Libraries"
   ]
  },
  {
   "cell_type": "code",
   "execution_count": null,
   "metadata": {},
   "outputs": [],
   "source": [
    "import pandas as pd\n",
    "import matplotlib.pyplot as plt\n",
    "from pandas import ExcelWriter\n",
    "import os\n",
    "import numpy as np\n",
    "import random\n",
    "plt.style.use(\"seaborn\")"
   ]
  },
  {
   "cell_type": "markdown",
   "metadata": {},
   "source": [
    "# Identifying Perfect Samples of Healthy Patients"
   ]
  },
  {
   "cell_type": "code",
   "execution_count": null,
   "metadata": {},
   "outputs": [],
   "source": [
    "Parameters = pd.read_excel(\"D:/DATA SCIENCE/INTERNSHIP PROJECT/Healthy/Samples/Parameters.xlsx\")"
   ]
  },
  {
   "cell_type": "code",
   "execution_count": null,
   "metadata": {},
   "outputs": [],
   "source": [
    "Parameters[\"Sample status\"] = \"\"\n",
    "Parameters"
   ]
  },
  {
   "cell_type": "code",
   "execution_count": null,
   "metadata": {},
   "outputs": [],
   "source": [
    "for i in range(0, len(Parameters)):\n",
    "    if Parameters.loc[i][9] == \"\":\n",
    "        data = pd.read_excel(\"D:/DATA SCIENCE/INTERNSHIP PROJECT/Healthy/Samples/\" + Parameters.loc[i][1][:-4] + \"/\" + Parameters.loc[i][1][:-4] + \"_\" + str(Parameters.loc[i][0]) + \".xlsx\")\n",
    "        data.Time = pd.to_numeric(data.Time, errors='coerce')\n",
    "        data.Sensor1 = pd.to_numeric(data.Sensor1, errors='coerce')\n",
    "        data.Sensor2 = pd.to_numeric(data.Sensor2, errors='coerce')\n",
    "        data.Sensor3 = pd.to_numeric(data.Sensor3, errors='coerce')\n",
    "        data.index = data.Time\n",
    "        ax = data.plot.line(x='Time', y=[\"Sensor1\", \"Sensor2\", \"Sensor3\"],figsize = (15, 8 ))\n",
    "        b = data[data[\"Sensor1\"] == Parameters.loc[i][2]]\n",
    "        c = data[data[\"Sensor2\"] == Parameters.loc[i][3]]\n",
    "        d = data[data[\"Sensor3\"] == Parameters.loc[i][4]]\n",
    "        fro = data[data[\"Sensor3\"] == data.loc[Parameters.loc[i][6]][4]]\n",
    "        to = data[data[\"Sensor3\"] == data.loc[Parameters.loc[i][7]][4]]\n",
    "        b.plot.scatter(x=\"Time\", y=\"Sensor1\", ax=ax,color=\"r\", marker=\"o\",s=50)\n",
    "        c.plot.scatter(x=\"Time\", y=\"Sensor2\", ax=ax,color=\"r\", marker=\"o\",s=50)\n",
    "        d.plot.scatter(x=\"Time\", y=\"Sensor3\", ax=ax,color=\"r\", marker=\"o\",s=50)\n",
    "        fro.plot.scatter(x=\"Time\", y=\"Sensor3\", ax=ax,color=\"b\", marker=\"o\",s=50)\n",
    "        to.plot.scatter(x=\"Time\", y=\"Sensor3\", ax=ax,color=\"b\", marker=\"o\",s=50)\n",
    "        plt.show()\n",
    "        perfect = input(\"Do you like the sample\")\n",
    "        if perfect == \"Y\":\n",
    "            Parameters[\"Sample status\"][i] = \"Perfect\"\n",
    "        if perfect == \"N\":\n",
    "            Parameters[\"Sample status\"][i] = \"Correction\"\n",
    "        writer = ExcelWriter('D:/DATA SCIENCE/INTERNSHIP PROJECT/Modelling/HealthySamples.xlsx')\n",
    "        Parameters.to_excel(writer,'Sheet1')\n",
    "        writer.save()\n",
    "    else:\n",
    "        pass"
   ]
  },
  {
   "cell_type": "markdown",
   "metadata": {},
   "source": [
    "# Identifying Perfect Samples of Unhealthy Patients"
   ]
  },
  {
   "cell_type": "code",
   "execution_count": null,
   "metadata": {},
   "outputs": [],
   "source": [
    "Parameters = pd.read_excel(\"D:/DATA SCIENCE/INTERNSHIP PROJECT/Unhealthy/Samples/Parameters.xlsx\")"
   ]
  },
  {
   "cell_type": "code",
   "execution_count": null,
   "metadata": {},
   "outputs": [],
   "source": [
    "Parameters[\"Sample status\"] = \"\"\n",
    "Parameters"
   ]
  },
  {
   "cell_type": "code",
   "execution_count": null,
   "metadata": {},
   "outputs": [],
   "source": [
    "for i in range(0, len(Parameters)):\n",
    "    if Parameters.loc[i][9] == \"\":\n",
    "        data = pd.read_excel(\"D:/DATA SCIENCE/INTERNSHIP PROJECT/Unhealthy/Samples/\" + Parameters.loc[i][1][:-4] + \"/\" + Parameters.loc[i][1][:-4] + \"_\" + str(Parameters.loc[i][0]) + \".xlsx\")\n",
    "        data.Time = pd.to_numeric(data.Time, errors='coerce')\n",
    "        data.Sensor1 = pd.to_numeric(data.Sensor1, errors='coerce')\n",
    "        data.Sensor2 = pd.to_numeric(data.Sensor2, errors='coerce')\n",
    "        data.Sensor3 = pd.to_numeric(data.Sensor3, errors='coerce')\n",
    "        data.index = data.Time\n",
    "        ax = data.plot.line(x='Time', y=[\"Sensor1\", \"Sensor2\", \"Sensor3\"],figsize = (15, 8 ))\n",
    "        b = data[data[\"Sensor1\"] == Parameters.loc[i][2]]\n",
    "        c = data[data[\"Sensor2\"] == Parameters.loc[i][3]]\n",
    "        d = data[data[\"Sensor3\"] == Parameters.loc[i][4]]\n",
    "        fro = data[data[\"Sensor3\"] == data.loc[Parameters.loc[i][6]][4]]\n",
    "        to = data[data[\"Sensor3\"] == data.loc[Parameters.loc[i][7]][4]]\n",
    "        b.plot.scatter(x=\"Time\", y=\"Sensor1\", ax=ax,color=\"r\", marker=\"o\",s=50)\n",
    "        c.plot.scatter(x=\"Time\", y=\"Sensor2\", ax=ax,color=\"r\", marker=\"o\",s=50)\n",
    "        d.plot.scatter(x=\"Time\", y=\"Sensor3\", ax=ax,color=\"r\", marker=\"o\",s=50)\n",
    "        fro.plot.scatter(x=\"Time\", y=\"Sensor3\", ax=ax,color=\"b\", marker=\"o\",s=50)\n",
    "        to.plot.scatter(x=\"Time\", y=\"Sensor3\", ax=ax,color=\"b\", marker=\"o\",s=50)\n",
    "        plt.show()\n",
    "        perfect = input(\"Do you like the sample\")\n",
    "        if perfect == \"Y\":\n",
    "            Parameters[\"Sample status\"][i] = \"Perfect\"\n",
    "        if perfect == \"N\":\n",
    "            Parameters[\"Sample status\"][i] = \"Correction\"\n",
    "        writer = ExcelWriter('D:/DATA SCIENCE/INTERNSHIP PROJECT/Modelling/UnHealthySamples.xlsx')\n",
    "        Parameters.to_excel(writer,'Sheet1')\n",
    "        writer.save()\n",
    "    else:\n",
    "        pass"
   ]
  }
 ],
 "metadata": {
  "kernelspec": {
   "display_name": "Python 3",
   "language": "python",
   "name": "python3"
  },
  "language_info": {
   "codemirror_mode": {
    "name": "ipython",
    "version": 3
   },
   "file_extension": ".py",
   "mimetype": "text/x-python",
   "name": "python",
   "nbconvert_exporter": "python",
   "pygments_lexer": "ipython3",
   "version": "3.7.4"
  }
 },
 "nbformat": 4,
 "nbformat_minor": 2
}
