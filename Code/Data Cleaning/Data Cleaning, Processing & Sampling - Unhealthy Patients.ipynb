{
 "cells": [
  {
   "cell_type": "markdown",
   "metadata": {},
   "source": [
    "# Data Preprocessing & Sampling - Unhealthy Patients"
   ]
  },
  {
   "cell_type": "markdown",
   "metadata": {},
   "source": [
    "# Importing Libraries"
   ]
  },
  {
   "cell_type": "code",
   "execution_count": null,
   "metadata": {},
   "outputs": [],
   "source": [
    "import pandas as pd\n",
    "import matplotlib.pyplot as plt\n",
    "from pandas import ExcelWriter\n",
    "import os\n",
    "import numpy as np\n",
    "import random\n",
    "plt.style.use(\"seaborn\")"
   ]
  },
  {
   "cell_type": "markdown",
   "metadata": {},
   "source": [
    "# Defining Suporting functions"
   ]
  },
  {
   "cell_type": "code",
   "execution_count": null,
   "metadata": {},
   "outputs": [],
   "source": [
    "def read_clean_4(filename):\n",
    "    \"\"\"Read the raw data and return the preprocessed data in the form of pandas dataframe\"\"\"\n",
    "    data = pd.read_csv('D:/DATA SCIENCE/INTERNSHIP PROJECT/Unhealthy/' + filename, header = None)\n",
    "    data[['Time', \"Channel1\"]] = data[0].str.split('\\t',1,expand=True)\n",
    "    data[['Channel1', \"Channel2\"]] = data[\"Channel1\"].str.split('\\t',1,expand=True)\n",
    "    data[['Channel2', \"Channel3\"]] = data[\"Channel2\"].str.split('\\t',1,expand=True)\n",
    "    data[['Channel3', \"Channel4\"]] = data[\"Channel3\"].str.split('\\t',1,expand=True)\n",
    "    data.drop(0, axis=1, inplace=True)\n",
    "    return data"
   ]
  },
  {
   "cell_type": "code",
   "execution_count": null,
   "metadata": {},
   "outputs": [],
   "source": [
    "def split(data):\n",
    "    \"\"\"It further splits the data returned by read_clean function and returns data ready for plotting\"\"\"\n",
    "    data_filtered = data[data['Time'] == \"Interval=\"]\n",
    "    data_list = []\n",
    "    for i in range(1, len(data_filtered)):\n",
    "        data_list.append(data.iloc[data_filtered.index[i-1]:data_filtered.index[i],])\n",
    "    data_list.append(data.iloc[data_filtered.index[-1]:,])\n",
    "    return data_list"
   ]
  },
  {
   "cell_type": "code",
   "execution_count": null,
   "metadata": {},
   "outputs": [],
   "source": [
    "def stats(data, filename):\n",
    "        \"\"\"Takes swallow sample data and filename as input parameters\n",
    "    & Evaluates features/Independent variables from swallow sample\"\"\"\n",
    "    description = data.describe()\n",
    "    sensor1_max = description.loc[\"max\"][\"Sensor1\"]\n",
    "    sensor2_max = description.loc[\"max\"][\"Sensor2\"]\n",
    "    sensor3_min = description.loc[\"min\"][\"Sensor3\"]\n",
    "    df_filtered1 = data[data['Sensor1'] == sensor1_max]\n",
    "    df_filtered2 = data[data['Sensor2'] == sensor2_max]\n",
    "    sensor1_maxtime = df_filtered1.index.values[0]\n",
    "    sensor2_maxtime = df_filtered2.index.values[0]\n",
    "    latency = float(sensor2_maxtime) - float(sensor1_maxtime)\n",
    "    return [filename, sensor1_max, sensor2_max, sensor3_min, latency]"
   ]
  },
  {
   "cell_type": "code",
   "execution_count": null,
   "metadata": {},
   "outputs": [],
   "source": [
    "def filenames(path):\n",
    "    \"\"\"Takes directory as argument and Returns all the filenames in a directory in the form of list \"\"\"\n",
    "    filenames = []\n",
    "    for file in os.listdir(path):\n",
    "        filename = os.fsdecode(file)\n",
    "        filenames.append(filename)\n",
    "    return filenames"
   ]
  },
  {
   "cell_type": "code",
   "execution_count": null,
   "metadata": {},
   "outputs": [],
   "source": [
    "def generate_sample(filename,data):\n",
    "    \"\"\"Takes filename and data as arguments, \n",
    "       return the extracted sample in the form of dataframe and plot, \n",
    "       ask for user input to save or reject the sample,\n",
    "       also returns the features of a sample\n",
    "       \"\"\"\n",
    "    data1 = data.loc[data[\"Sensor1\"]>80]\n",
    "    points = list(data1.index)\n",
    "    max_points = []\n",
    "    for i in points:\n",
    "        i = round(i,3)\n",
    "        try:\n",
    "            if data.loc[i,\"Sensor1\"] > data.loc[round(i+0.001,3), \"Sensor1\"] and data.loc[i,\"Sensor1\"] > data.loc[round(i-0.001,3), \"Sensor1\"]:\n",
    "                max_points.append(i)\n",
    "        except:\n",
    "            pass\n",
    "    if len(max_points) != 0:\n",
    "        time = random.choice(max_points)\n",
    "        time = round(time,3)\n",
    "        if time-1 < 0:     \n",
    "            array = np.arange(time,0,-0.001)\n",
    "        else:\n",
    "            array = np.arange(time,time-1,-0.001)\n",
    "        list1 = []\n",
    "        for element in array:\n",
    "            list1.append(data.loc[round(element,3),\"Sensor3\"])\n",
    "        start = round(array[list1.index(max(list1))],3)\n",
    "        array = np.arange(time,time+1,0.001)\n",
    "        list2 = []\n",
    "        for element in array:\n",
    "            list2.append(data.loc[round(element,3),\"Sensor3\"])\n",
    "        end = round(array[list2.index(max(list2))],3)\n",
    "        data2 = data.loc[start-1:end+1,]\n",
    "        data2[\"Time\"] = data2.index\n",
    "        stat = stats(data2, filename)\n",
    "        ax = data2.plot.line(x='Time', y=[\"Sensor1\", \"Sensor2\", \"Sensor3\"],figsize = (15, 8 ))\n",
    "        b = data2[data2[\"Sensor1\"] == stat[1]]\n",
    "        c = data2[data2[\"Sensor2\"] == stat[2]]\n",
    "        d = data2[data2[\"Sensor3\"] == stat[3]]\n",
    "        fro = data2[data2[\"Sensor3\"] == data2.loc[start, \"Sensor3\"]]\n",
    "        to = data2[data2[\"Sensor3\"] == data2.loc[end, \"Sensor3\"]]\n",
    "        b.plot.scatter(x=\"Time\", y=\"Sensor1\", ax=ax,color=\"r\", marker=\"o\",s=50)\n",
    "        c.plot.scatter(x=\"Time\", y=\"Sensor2\", ax=ax,color=\"r\", marker=\"o\",s=50)\n",
    "        d.plot.scatter(x=\"Time\", y=\"Sensor3\", ax=ax,color=\"r\", marker=\"o\",s=50)\n",
    "        fro.plot.scatter(x=\"Time\", y=\"Sensor3\", ax=ax,color=\"b\", marker=\"o\",s=50)\n",
    "        to.plot.scatter(x=\"Time\", y=\"Sensor3\", ax=ax,color=\"b\", marker=\"o\",s=50)\n",
    "        plt.show()\n",
    "        stat.append(start)\n",
    "        stat.append(end)\n",
    "        stat.append(end - start)\n",
    "        return [filename,data2,stat]\n",
    "    else:\n",
    "        return 0"
   ]
  },
  {
   "cell_type": "code",
   "execution_count": null,
   "metadata": {},
   "outputs": [],
   "source": [
    "def save_sample(sample_no, sample, Parameters):\n",
    "    \"\"\"takes sample number, sample data & sample features as parameter,\n",
    "       ask for user input to save or reject the sample,\n",
    "       returns the pandas dataframe containing features of all saved samples\n",
    "    \"\"\"\n",
    "    save = input(\"Enter Y/N\")\n",
    "    if save == \"Y\" :\n",
    "        writer = ExcelWriter('D:/DATA SCIENCE/INTERNSHIP PROJECT/Unhealthy/Samples/' + sample[0][:-4] + \"/\" + sample[0][:-4] + \"_\" + str(sample_no) + \".xlsx\")\n",
    "        sample[1].to_excel(writer,'Sheet1')\n",
    "        writer.save()       \n",
    "        Parameters.loc[sample_no] = sample[2]\n",
    "    else:\n",
    "        pass\n",
    "    return Parameters"
   ]
  },
  {
   "cell_type": "markdown",
   "metadata": {},
   "source": [
    "## Main"
   ]
  },
  {
   "cell_type": "code",
   "execution_count": null,
   "metadata": {},
   "outputs": [],
   "source": [
    "directory = \"D:/DATA SCIENCE/INTERNSHIP PROJECT/Unhealthy/\"\n",
    "files = filenames(directory)\n",
    "Parameters = pd.DataFrame(columns=[\"Patient\",'Sensor1_max', 'Sensor2_max', 'Sensor3_min', \"Latency\", \"UES_start\", \"UES_end\",\"UES_Duration\"])\n",
    "sample_no = 0"
   ]
  },
  {
   "cell_type": "code",
   "execution_count": null,
   "metadata": {},
   "outputs": [],
   "source": [
    "for file in files:\n",
    "\n",
    "    if not os.path.exists(\"D:/DATA SCIENCE/INTERNSHIP PROJECT/Unhealthy/Samples/\" + file[:-4]):\n",
    "        os.makedirs(\"D:/DATA SCIENCE/INTERNSHIP PROJECT/Unhealthy/Samples/\" + file[:-4])\n",
    "    if len(os.listdir(\"D:/DATA SCIENCE/INTERNSHIP PROJECT/Unhealthy/Samples/\" + file[:-4]))!= 5:\n",
    "        data = read_clean_4(file)\n",
    "        data_list = split(data)\n",
    "    while len(os.listdir(\"D:/DATA SCIENCE/INTERNSHIP PROJECT/Unhealthy/Samples/\" + file[:-4])) < 5:  \n",
    "        data = random.choice(data_list)[9:]\n",
    "        data[\"S.No\"] = data.index\n",
    "        data.Time = pd.to_numeric(data.Time, errors='coerce')\n",
    "        data.Channel1 = pd.to_numeric(data.Channel1, errors='coerce')\n",
    "        data.Channel2 = pd.to_numeric(data.Channel2, errors='coerce')\n",
    "        data.Channel3 = pd.to_numeric(data.Channel3, errors='coerce')\n",
    "        data.index = data.Time\n",
    "        cols = [\"S.No\", \"Channel1\", \"Channel2\", \"Channel3\"]\n",
    "        data = data[cols]\n",
    "        data.columns = [\"S.No\", \"Sensor1\", \"Sensor2\", \"Sensor3\"]\n",
    "        data.index = data.index.to_series().apply(lambda x: np.round(x,3))\n",
    "        sample = generate_sample(file,data)\n",
    "        my_rounded_list = [ round(elem, 0) for elem in list(Parameters.UES_start) ]\n",
    "        if sample != 0:\n",
    "            if round(sample[2][5],0) not in my_rounded_list[-5:]:\n",
    "                Parameters = save_sample(sample_no, sample, Parameters)\n",
    "                sample_no = sample_no + 1\n",
    "        else:\n",
    "            pass"
   ]
  },
  {
   "cell_type": "code",
   "execution_count": null,
   "metadata": {},
   "outputs": [],
   "source": [
    "writer = ExcelWriter('D:/DATA SCIENCE/INTERNSHIP PROJECT/Unhealthy/Samples/Parameters.xlsx')\n",
    "Parameters.to_excel(writer,'Sheet1')\n",
    "writer.save()"
   ]
  }
 ],
 "metadata": {
  "kernelspec": {
   "display_name": "Python 3",
   "language": "python",
   "name": "python3"
  },
  "language_info": {
   "codemirror_mode": {
    "name": "ipython",
    "version": 3
   },
   "file_extension": ".py",
   "mimetype": "text/x-python",
   "name": "python",
   "nbconvert_exporter": "python",
   "pygments_lexer": "ipython3",
   "version": "3.7.4"
  }
 },
 "nbformat": 4,
 "nbformat_minor": 2
}
