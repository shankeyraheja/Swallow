{
 "cells": [
  {
   "cell_type": "markdown",
   "metadata": {},
   "source": [
    "# Light GBM- Detection of Swallowing Disorders"
   ]
  },
  {
   "cell_type": "code",
   "execution_count": 1,
   "metadata": {},
   "outputs": [],
   "source": [
    "import pandas as pd\n",
    "import matplotlib.pyplot as plt\n",
    "from pandas import ExcelWriter\n",
    "import os\n",
    "import numpy as np\n",
    "import random\n",
    "plt.style.use(\"seaborn\")\n",
    "from sklearn.model_selection import train_test_split\n",
    "from sklearn.linear_model import LogisticRegression\n",
    "from sklearn import metrics\n",
    "import seaborn as sns\n",
    "from sklearn.svm import LinearSVC\n",
    "from sklearn.ensemble import RandomForestClassifier\n",
    "import lightgbm as lgb"
   ]
  },
  {
   "cell_type": "markdown",
   "metadata": {},
   "source": [
    "### Loading the dataset"
   ]
  },
  {
   "cell_type": "code",
   "execution_count": 2,
   "metadata": {},
   "outputs": [
    {
     "data": {
      "text/html": [
       "<div>\n",
       "<style scoped>\n",
       "    .dataframe tbody tr th:only-of-type {\n",
       "        vertical-align: middle;\n",
       "    }\n",
       "\n",
       "    .dataframe tbody tr th {\n",
       "        vertical-align: top;\n",
       "    }\n",
       "\n",
       "    .dataframe thead th {\n",
       "        text-align: right;\n",
       "    }\n",
       "</style>\n",
       "<table border=\"1\" class=\"dataframe\">\n",
       "  <thead>\n",
       "    <tr style=\"text-align: right;\">\n",
       "      <th></th>\n",
       "      <th>Patient</th>\n",
       "      <th>Sensor1_max</th>\n",
       "      <th>Sensor2_max</th>\n",
       "      <th>Sensor3_min</th>\n",
       "      <th>Latency</th>\n",
       "      <th>UES_start</th>\n",
       "      <th>UES_end</th>\n",
       "      <th>UES_Duration</th>\n",
       "      <th>Swallow_type</th>\n",
       "      <th>Label</th>\n",
       "    </tr>\n",
       "  </thead>\n",
       "  <tbody>\n",
       "    <tr>\n",
       "      <td>0</td>\n",
       "      <td>Control 1.txt</td>\n",
       "      <td>192.279698</td>\n",
       "      <td>113.474479</td>\n",
       "      <td>-20.601968</td>\n",
       "      <td>-0.028</td>\n",
       "      <td>1552.752</td>\n",
       "      <td>1553.392</td>\n",
       "      <td>0.640</td>\n",
       "      <td>healthy</td>\n",
       "      <td>0</td>\n",
       "    </tr>\n",
       "    <tr>\n",
       "      <td>1</td>\n",
       "      <td>Control 1.txt</td>\n",
       "      <td>167.821012</td>\n",
       "      <td>98.336004</td>\n",
       "      <td>-11.776150</td>\n",
       "      <td>-0.028</td>\n",
       "      <td>1782.184</td>\n",
       "      <td>1782.896</td>\n",
       "      <td>0.712</td>\n",
       "      <td>healthy</td>\n",
       "      <td>0</td>\n",
       "    </tr>\n",
       "    <tr>\n",
       "      <td>2</td>\n",
       "      <td>Control 1.txt</td>\n",
       "      <td>171.739528</td>\n",
       "      <td>249.844358</td>\n",
       "      <td>-24.181735</td>\n",
       "      <td>-0.036</td>\n",
       "      <td>611.556</td>\n",
       "      <td>612.284</td>\n",
       "      <td>0.728</td>\n",
       "      <td>healthy</td>\n",
       "      <td>0</td>\n",
       "    </tr>\n",
       "    <tr>\n",
       "      <td>3</td>\n",
       "      <td>Control 1.txt</td>\n",
       "      <td>200.377661</td>\n",
       "      <td>107.578393</td>\n",
       "      <td>-16.358434</td>\n",
       "      <td>-0.092</td>\n",
       "      <td>2333.764</td>\n",
       "      <td>2334.412</td>\n",
       "      <td>0.648</td>\n",
       "      <td>healthy</td>\n",
       "      <td>0</td>\n",
       "    </tr>\n",
       "    <tr>\n",
       "      <td>4</td>\n",
       "      <td>Control 1.txt</td>\n",
       "      <td>193.675898</td>\n",
       "      <td>105.770199</td>\n",
       "      <td>-25.335317</td>\n",
       "      <td>-0.172</td>\n",
       "      <td>1697.164</td>\n",
       "      <td>1697.784</td>\n",
       "      <td>0.620</td>\n",
       "      <td>healthy</td>\n",
       "      <td>0</td>\n",
       "    </tr>\n",
       "    <tr>\n",
       "      <td>...</td>\n",
       "      <td>...</td>\n",
       "      <td>...</td>\n",
       "      <td>...</td>\n",
       "      <td>...</td>\n",
       "      <td>...</td>\n",
       "      <td>...</td>\n",
       "      <td>...</td>\n",
       "      <td>...</td>\n",
       "      <td>...</td>\n",
       "      <td>...</td>\n",
       "    </tr>\n",
       "    <tr>\n",
       "      <td>194</td>\n",
       "      <td>HD11A.txt</td>\n",
       "      <td>114.937700</td>\n",
       "      <td>101.913100</td>\n",
       "      <td>-27.384550</td>\n",
       "      <td>0.211</td>\n",
       "      <td>117.157</td>\n",
       "      <td>117.828</td>\n",
       "      <td>0.671</td>\n",
       "      <td>unhealthy</td>\n",
       "      <td>1</td>\n",
       "    </tr>\n",
       "    <tr>\n",
       "      <td>195</td>\n",
       "      <td>HD11A.txt</td>\n",
       "      <td>195.568900</td>\n",
       "      <td>97.228870</td>\n",
       "      <td>-14.957330</td>\n",
       "      <td>0.200</td>\n",
       "      <td>163.116</td>\n",
       "      <td>164.111</td>\n",
       "      <td>0.995</td>\n",
       "      <td>unhealthy</td>\n",
       "      <td>1</td>\n",
       "    </tr>\n",
       "    <tr>\n",
       "      <td>196</td>\n",
       "      <td>HD11A.txt</td>\n",
       "      <td>200.185000</td>\n",
       "      <td>116.615400</td>\n",
       "      <td>-9.014693</td>\n",
       "      <td>-0.042</td>\n",
       "      <td>124.009</td>\n",
       "      <td>124.538</td>\n",
       "      <td>0.529</td>\n",
       "      <td>unhealthy</td>\n",
       "      <td>1</td>\n",
       "    </tr>\n",
       "    <tr>\n",
       "      <td>197</td>\n",
       "      <td>HD11B.txt</td>\n",
       "      <td>209.113400</td>\n",
       "      <td>79.385630</td>\n",
       "      <td>-12.359970</td>\n",
       "      <td>0.192</td>\n",
       "      <td>61.255</td>\n",
       "      <td>61.856</td>\n",
       "      <td>0.601</td>\n",
       "      <td>unhealthy</td>\n",
       "      <td>1</td>\n",
       "    </tr>\n",
       "    <tr>\n",
       "      <td>201</td>\n",
       "      <td>HD11B.txt</td>\n",
       "      <td>309.871200</td>\n",
       "      <td>59.288520</td>\n",
       "      <td>-9.540810</td>\n",
       "      <td>0.110</td>\n",
       "      <td>10.308</td>\n",
       "      <td>10.866</td>\n",
       "      <td>0.558</td>\n",
       "      <td>unhealthy</td>\n",
       "      <td>1</td>\n",
       "    </tr>\n",
       "  </tbody>\n",
       "</table>\n",
       "<p>244 rows × 10 columns</p>\n",
       "</div>"
      ],
      "text/plain": [
       "           Patient  Sensor1_max  Sensor2_max  Sensor3_min  Latency  UES_start  \\\n",
       "0    Control 1.txt   192.279698   113.474479   -20.601968   -0.028   1552.752   \n",
       "1    Control 1.txt   167.821012    98.336004   -11.776150   -0.028   1782.184   \n",
       "2    Control 1.txt   171.739528   249.844358   -24.181735   -0.036    611.556   \n",
       "3    Control 1.txt   200.377661   107.578393   -16.358434   -0.092   2333.764   \n",
       "4    Control 1.txt   193.675898   105.770199   -25.335317   -0.172   1697.164   \n",
       "..             ...          ...          ...          ...      ...        ...   \n",
       "194      HD11A.txt   114.937700   101.913100   -27.384550    0.211    117.157   \n",
       "195      HD11A.txt   195.568900    97.228870   -14.957330    0.200    163.116   \n",
       "196      HD11A.txt   200.185000   116.615400    -9.014693   -0.042    124.009   \n",
       "197      HD11B.txt   209.113400    79.385630   -12.359970    0.192     61.255   \n",
       "201      HD11B.txt   309.871200    59.288520    -9.540810    0.110     10.308   \n",
       "\n",
       "      UES_end  UES_Duration Swallow_type  Label  \n",
       "0    1553.392         0.640      healthy      0  \n",
       "1    1782.896         0.712      healthy      0  \n",
       "2     612.284         0.728      healthy      0  \n",
       "3    2334.412         0.648      healthy      0  \n",
       "4    1697.784         0.620      healthy      0  \n",
       "..        ...           ...          ...    ...  \n",
       "194   117.828         0.671    unhealthy      1  \n",
       "195   164.111         0.995    unhealthy      1  \n",
       "196   124.538         0.529    unhealthy      1  \n",
       "197    61.856         0.601    unhealthy      1  \n",
       "201    10.866         0.558    unhealthy      1  \n",
       "\n",
       "[244 rows x 10 columns]"
      ]
     },
     "execution_count": 2,
     "metadata": {},
     "output_type": "execute_result"
    }
   ],
   "source": [
    "healthy = pd.read_excel(\"D:/DATA SCIENCE/INTERNSHIP PROJECT/Modelling/HealthySamples.xlsx\")\n",
    "healthy = healthy[healthy[\"Sample status\"] == \"Perfect\"]\n",
    "healthy[\"Swallow_type\"] = \"healthy\"\n",
    "unhealthy = pd.read_excel(\"D:/DATA SCIENCE/INTERNSHIP PROJECT/Modelling/UnHealthySamples.xlsx\")\n",
    "unhealthy = unhealthy[unhealthy[\"Sample status\"] == \"Perfect\"]\n",
    "unhealthy[\"Swallow_type\"] = \"unhealthy\"\n",
    "data = healthy.append(unhealthy)[[\"Patient\", \"Sensor1_max\", \"Sensor2_max\", \"Sensor3_min\", \"Latency\", \"UES_start\", \"UES_end\", \"UES_Duration\", \"Swallow_type\"]]\n",
    "data[\"Label\"] = np.where(data[\"Swallow_type\"] == \"healthy\", 0, 1)\n",
    "data"
   ]
  },
  {
   "cell_type": "markdown",
   "metadata": {},
   "source": [
    "### Descriptive Statistics of a dataset"
   ]
  },
  {
   "cell_type": "markdown",
   "metadata": {},
   "source": [
    "#### Healthy Class"
   ]
  },
  {
   "cell_type": "code",
   "execution_count": 3,
   "metadata": {},
   "outputs": [
    {
     "data": {
      "text/html": [
       "<div>\n",
       "<style scoped>\n",
       "    .dataframe tbody tr th:only-of-type {\n",
       "        vertical-align: middle;\n",
       "    }\n",
       "\n",
       "    .dataframe tbody tr th {\n",
       "        vertical-align: top;\n",
       "    }\n",
       "\n",
       "    .dataframe thead th {\n",
       "        text-align: right;\n",
       "    }\n",
       "</style>\n",
       "<table border=\"1\" class=\"dataframe\">\n",
       "  <thead>\n",
       "    <tr style=\"text-align: right;\">\n",
       "      <th></th>\n",
       "      <th>Sensor1_max</th>\n",
       "      <th>Sensor2_max</th>\n",
       "      <th>Sensor3_min</th>\n",
       "      <th>Latency</th>\n",
       "      <th>UES_Duration</th>\n",
       "    </tr>\n",
       "  </thead>\n",
       "  <tbody>\n",
       "    <tr>\n",
       "      <td>count</td>\n",
       "      <td>124.000000</td>\n",
       "      <td>124.000000</td>\n",
       "      <td>124.000000</td>\n",
       "      <td>124.000000</td>\n",
       "      <td>124.000000</td>\n",
       "    </tr>\n",
       "    <tr>\n",
       "      <td>mean</td>\n",
       "      <td>124.158939</td>\n",
       "      <td>129.857740</td>\n",
       "      <td>-9.502119</td>\n",
       "      <td>0.145363</td>\n",
       "      <td>0.845387</td>\n",
       "    </tr>\n",
       "    <tr>\n",
       "      <td>std</td>\n",
       "      <td>44.465992</td>\n",
       "      <td>53.531787</td>\n",
       "      <td>7.791889</td>\n",
       "      <td>0.128389</td>\n",
       "      <td>0.222639</td>\n",
       "    </tr>\n",
       "    <tr>\n",
       "      <td>min</td>\n",
       "      <td>80.599680</td>\n",
       "      <td>44.151980</td>\n",
       "      <td>-33.376059</td>\n",
       "      <td>-0.172000</td>\n",
       "      <td>0.436000</td>\n",
       "    </tr>\n",
       "    <tr>\n",
       "      <td>25%</td>\n",
       "      <td>92.439345</td>\n",
       "      <td>89.732204</td>\n",
       "      <td>-13.897917</td>\n",
       "      <td>0.056000</td>\n",
       "      <td>0.664000</td>\n",
       "    </tr>\n",
       "    <tr>\n",
       "      <td>50%</td>\n",
       "      <td>110.516137</td>\n",
       "      <td>119.357977</td>\n",
       "      <td>-9.127947</td>\n",
       "      <td>0.150000</td>\n",
       "      <td>0.828000</td>\n",
       "    </tr>\n",
       "    <tr>\n",
       "      <td>75%</td>\n",
       "      <td>137.118334</td>\n",
       "      <td>161.465438</td>\n",
       "      <td>-3.650721</td>\n",
       "      <td>0.239250</td>\n",
       "      <td>0.981000</td>\n",
       "    </tr>\n",
       "    <tr>\n",
       "      <td>max</td>\n",
       "      <td>274.703593</td>\n",
       "      <td>250.000000</td>\n",
       "      <td>8.228428</td>\n",
       "      <td>0.532000</td>\n",
       "      <td>1.892000</td>\n",
       "    </tr>\n",
       "  </tbody>\n",
       "</table>\n",
       "</div>"
      ],
      "text/plain": [
       "       Sensor1_max  Sensor2_max  Sensor3_min     Latency  UES_Duration\n",
       "count   124.000000   124.000000   124.000000  124.000000    124.000000\n",
       "mean    124.158939   129.857740    -9.502119    0.145363      0.845387\n",
       "std      44.465992    53.531787     7.791889    0.128389      0.222639\n",
       "min      80.599680    44.151980   -33.376059   -0.172000      0.436000\n",
       "25%      92.439345    89.732204   -13.897917    0.056000      0.664000\n",
       "50%     110.516137   119.357977    -9.127947    0.150000      0.828000\n",
       "75%     137.118334   161.465438    -3.650721    0.239250      0.981000\n",
       "max     274.703593   250.000000     8.228428    0.532000      1.892000"
      ]
     },
     "execution_count": 3,
     "metadata": {},
     "output_type": "execute_result"
    }
   ],
   "source": [
    "healthy[[\"Sensor1_max\", \"Sensor2_max\", \"Sensor3_min\", \"Latency\", \"UES_Duration\"]].describe()"
   ]
  },
  {
   "cell_type": "code",
   "execution_count": 89,
   "metadata": {},
   "outputs": [
    {
     "data": {
      "text/plain": [
       "[Text(0, 0.5, 'Frequency'), Text(0.5, 0, 'UES_Duration')]"
      ]
     },
     "execution_count": 89,
     "metadata": {},
     "output_type": "execute_result"
    },
    {
     "data": {
      "image/png": "[encoded data removed]",
      "text/plain": [
       "<Figure size 1080x432 with 2 Axes>"
      ]
     },
     "metadata": {},
     "output_type": "display_data"
    },
    {
     "data": {
      "image/png": "[encoded data removed]",
      "text/plain": [
       "<Figure size 1080x432 with 2 Axes>"
      ]
     },
     "metadata": {},
     "output_type": "display_data"
    },
    {
     "data": {
      "image/png": "[encoded data removed]",
      "text/plain": [
       "<Figure size 1080x432 with 1 Axes>"
      ]
     },
     "metadata": {},
     "output_type": "display_data"
    }
   ],
   "source": [
    "#fig, (ax1, ax2) = plt.subplots(1, 2)\n",
    "# plt.subplots()\n",
    "f = plt.figure(figsize=(15,6))\n",
    "f1 = plt.figure(figsize=(15,6))\n",
    "f2 = plt.figure(figsize=(15,6))\n",
    "ax = f.add_subplot(121)\n",
    "ax2 = f.add_subplot(122)\n",
    "ax3 = f1.add_subplot(121)\n",
    "ax4 = f1.add_subplot(122)\n",
    "ax5 = f2.add_subplot(122)\n",
    "# plt.subplot2grid((3,3), (0,0), colspan=3)\n",
    "# healthy[[\"Sensor1_max\", \"Sensor2_max\", \"Sensor3_min\", \"Latency\", \"UES_Duration\"]].hist(bins = 10, figsize=(15, 8))\n",
    "ax.hist(healthy[\"Sensor1_max\"], bins = 30)\n",
    "ax.set(xlabel='Sensor1_max', ylabel='Frequency')\n",
    "ax2.hist(healthy[\"Sensor2_max\"], bins = 30)\n",
    "ax2.set(xlabel='Sensor2_max', ylabel='Frequency')\n",
    "ax3.hist(healthy[\"Sensor3_min\"], bins = 30)\n",
    "ax3.set(xlabel='Sensor3_min', ylabel='Frequency')\n",
    "ax4.hist(healthy[\"Latency\"], bins = 30)\n",
    "ax4.set(xlabel='Latency', ylabel='Frequency')\n",
    "ax5.hist(healthy[\"UES_Duration\"], bins = 30)\n",
    "ax5.set(xlabel='UES_Duration', ylabel='Frequency')"
   ]
  },
  {
   "cell_type": "code",
   "execution_count": 97,
   "metadata": {},
   "outputs": [
    {
     "data": {
      "text/plain": [
       "<matplotlib.axes._subplots.AxesSubplot at 0x19132703c88>"
      ]
     },
     "execution_count": 97,
     "metadata": {},
     "output_type": "execute_result"
    },
    {
     "data": {
      "image/png": "[encoded data removed]",
      "text/plain": [
       "<Figure size 432x288 with 1 Axes>"
      ]
     },
     "metadata": {},
     "output_type": "display_data"
    }
   ],
   "source": [
    "healthy[\"Latency\"].plot.kde()"
   ]
  },
  {
   "cell_type": "code",
   "execution_count": 141,
   "metadata": {},
   "outputs": [
    {
     "data": {
      "text/plain": [
       "<matplotlib.axes._subplots.AxesSubplot at 0x1913c2d34c8>"
      ]
     },
     "execution_count": 141,
     "metadata": {},
     "output_type": "execute_result"
    },
    {
     "data": {
      "image/png": "[encoded data removed]",
      "text/plain": [
       "<Figure size 1080x360 with 2 Axes>"
      ]
     },
     "metadata": {},
     "output_type": "display_data"
    },
    {
     "data": {
      "image/png": "[encoded data removed]",
      "text/plain": [
       "<Figure size 1080x360 with 2 Axes>"
      ]
     },
     "metadata": {},
     "output_type": "display_data"
    },
    {
     "data": {
      "image/png": "[encoded data removed]",
      "text/plain": [
       "<Figure size 1080x360 with 2 Axes>"
      ]
     },
     "metadata": {},
     "output_type": "display_data"
    }
   ],
   "source": [
    "f, axes = plt.subplots(1, 2,figsize=(15,5))\n",
    "f, axes1 = plt.subplots(1, 2,figsize=(15,5))\n",
    "f, axes2 = plt.subplots(1, 2,figsize=(15,5))\n",
    "axes2[0].set(ylabel=\"Probability Density\")\n",
    "axes[0].set(ylabel=\"Probability Density\")\n",
    "axes[1].set(ylabel=\"Probability Density\")\n",
    "axes1[0].set(ylabel=\"Probability Density\")\n",
    "axes1[1].set(ylabel=\"Probability Density\")\n",
    "axes2[0].xaxis.label.set_size(15)\n",
    "axes2[0].yaxis.label.set_size(15)\n",
    "axes[0].xaxis.label.set_size(15)\n",
    "axes[0].yaxis.label.set_size(15)\n",
    "axes[1].xaxis.label.set_size(15)\n",
    "axes[1].yaxis.label.set_size(15)\n",
    "axes1[0].xaxis.label.set_size(15)\n",
    "axes1[0].yaxis.label.set_size(15)\n",
    "axes1[1].xaxis.label.set_size(15)\n",
    "axes1[1].yaxis.label.set_size(15)\n",
    "sns.distplot(healthy[\"Sensor1_max\"], hist=True, kde=True, \n",
    "            bins=30,color = 'darkblue', \n",
    "             hist_kws={'edgecolor':'black'},\n",
    "             kde_kws={'linewidth': 4}, ax=axes[0])\n",
    "sns.distplot(healthy[\"Sensor2_max\"], hist=True, kde=True, \n",
    "            bins=30,color = 'darkblue', \n",
    "             hist_kws={'edgecolor':'black'},\n",
    "             kde_kws={'linewidth': 4}, ax=axes[1])\n",
    "sns.distplot(healthy[\"Sensor3_min\"], hist=True, kde=True, \n",
    "            bins=30,color = 'darkblue', \n",
    "             hist_kws={'edgecolor':'black'},\n",
    "             kde_kws={'linewidth': 4}, ax=axes1[0])\n",
    "sns.distplot(healthy[\"Latency\"], hist=True, kde=True, \n",
    "            bins=30,color = 'darkblue', \n",
    "             hist_kws={'edgecolor':'black'},\n",
    "             kde_kws={'linewidth': 4}, ax=axes1[1])\n",
    "sns.distplot(healthy[\"UES_Duration\"], hist=True, kde=True, \n",
    "            bins=30,color = 'darkblue', \n",
    "             hist_kws={'edgecolor':'black'},\n",
    "             kde_kws={'linewidth': 4}, ax=axes2[0])"
   ]
  },
  {
   "cell_type": "markdown",
   "metadata": {},
   "source": [
    "#### Unhealthy Class"
   ]
  },
  {
   "cell_type": "code",
   "execution_count": 4,
   "metadata": {},
   "outputs": [
    {
     "data": {
      "text/html": [
       "<div>\n",
       "<style scoped>\n",
       "    .dataframe tbody tr th:only-of-type {\n",
       "        vertical-align: middle;\n",
       "    }\n",
       "\n",
       "    .dataframe tbody tr th {\n",
       "        vertical-align: top;\n",
       "    }\n",
       "\n",
       "    .dataframe thead th {\n",
       "        text-align: right;\n",
       "    }\n",
       "</style>\n",
       "<table border=\"1\" class=\"dataframe\">\n",
       "  <thead>\n",
       "    <tr style=\"text-align: right;\">\n",
       "      <th></th>\n",
       "      <th>Sensor1_max</th>\n",
       "      <th>Sensor2_max</th>\n",
       "      <th>Sensor3_min</th>\n",
       "      <th>Latency</th>\n",
       "      <th>UES_Duration</th>\n",
       "    </tr>\n",
       "  </thead>\n",
       "  <tbody>\n",
       "    <tr>\n",
       "      <td>count</td>\n",
       "      <td>120.000000</td>\n",
       "      <td>120.000000</td>\n",
       "      <td>120.000000</td>\n",
       "      <td>120.000000</td>\n",
       "      <td>120.000000</td>\n",
       "    </tr>\n",
       "    <tr>\n",
       "      <td>mean</td>\n",
       "      <td>144.082960</td>\n",
       "      <td>145.538535</td>\n",
       "      <td>-13.641965</td>\n",
       "      <td>0.159658</td>\n",
       "      <td>0.814517</td>\n",
       "    </tr>\n",
       "    <tr>\n",
       "      <td>std</td>\n",
       "      <td>51.947881</td>\n",
       "      <td>79.275492</td>\n",
       "      <td>7.535588</td>\n",
       "      <td>0.103103</td>\n",
       "      <td>0.199220</td>\n",
       "    </tr>\n",
       "    <tr>\n",
       "      <td>min</td>\n",
       "      <td>80.756810</td>\n",
       "      <td>47.114770</td>\n",
       "      <td>-48.677570</td>\n",
       "      <td>-0.142000</td>\n",
       "      <td>0.420000</td>\n",
       "    </tr>\n",
       "    <tr>\n",
       "      <td>25%</td>\n",
       "      <td>98.738570</td>\n",
       "      <td>88.117125</td>\n",
       "      <td>-17.293390</td>\n",
       "      <td>0.104500</td>\n",
       "      <td>0.671000</td>\n",
       "    </tr>\n",
       "    <tr>\n",
       "      <td>50%</td>\n",
       "      <td>134.162300</td>\n",
       "      <td>127.453150</td>\n",
       "      <td>-12.117235</td>\n",
       "      <td>0.166500</td>\n",
       "      <td>0.786500</td>\n",
       "    </tr>\n",
       "    <tr>\n",
       "      <td>75%</td>\n",
       "      <td>170.505650</td>\n",
       "      <td>174.013475</td>\n",
       "      <td>-8.784615</td>\n",
       "      <td>0.217500</td>\n",
       "      <td>0.955000</td>\n",
       "    </tr>\n",
       "    <tr>\n",
       "      <td>max</td>\n",
       "      <td>309.871200</td>\n",
       "      <td>435.149900</td>\n",
       "      <td>1.642600</td>\n",
       "      <td>0.573000</td>\n",
       "      <td>1.601000</td>\n",
       "    </tr>\n",
       "  </tbody>\n",
       "</table>\n",
       "</div>"
      ],
      "text/plain": [
       "       Sensor1_max  Sensor2_max  Sensor3_min     Latency  UES_Duration\n",
       "count   120.000000   120.000000   120.000000  120.000000    120.000000\n",
       "mean    144.082960   145.538535   -13.641965    0.159658      0.814517\n",
       "std      51.947881    79.275492     7.535588    0.103103      0.199220\n",
       "min      80.756810    47.114770   -48.677570   -0.142000      0.420000\n",
       "25%      98.738570    88.117125   -17.293390    0.104500      0.671000\n",
       "50%     134.162300   127.453150   -12.117235    0.166500      0.786500\n",
       "75%     170.505650   174.013475    -8.784615    0.217500      0.955000\n",
       "max     309.871200   435.149900     1.642600    0.573000      1.601000"
      ]
     },
     "execution_count": 4,
     "metadata": {},
     "output_type": "execute_result"
    }
   ],
   "source": [
    "unhealthy[[\"Sensor1_max\", \"Sensor2_max\", \"Sensor3_min\", \"Latency\", \"UES_Duration\"]].describe()"
   ]
  },
  {
   "cell_type": "markdown",
   "metadata": {},
   "source": [
    "### Correlation matrix of Independent variables"
   ]
  },
  {
   "cell_type": "code",
   "execution_count": 5,
   "metadata": {},
   "outputs": [
    {
     "data": {
      "text/html": [
       "<style  type=\"text/css\" >\n",
       "    #T_df4fd124_5dee_11eb_a48b_a7fa59d09b32row0_col0 {\n",
       "            background-color:  #b40426;\n",
       "            color:  #f1f1f1;\n",
       "        }    #T_df4fd124_5dee_11eb_a48b_a7fa59d09b32row0_col1 {\n",
       "            background-color:  #536edd;\n",
       "            color:  #000000;\n",
       "        }    #T_df4fd124_5dee_11eb_a48b_a7fa59d09b32row0_col2 {\n",
       "            background-color:  #516ddb;\n",
       "            color:  #000000;\n",
       "        }    #T_df4fd124_5dee_11eb_a48b_a7fa59d09b32row0_col3 {\n",
       "            background-color:  #7a9df8;\n",
       "            color:  #000000;\n",
       "        }    #T_df4fd124_5dee_11eb_a48b_a7fa59d09b32row0_col4 {\n",
       "            background-color:  #3b4cc0;\n",
       "            color:  #f1f1f1;\n",
       "        }    #T_df4fd124_5dee_11eb_a48b_a7fa59d09b32row1_col0 {\n",
       "            background-color:  #3c4ec2;\n",
       "            color:  #f1f1f1;\n",
       "        }    #T_df4fd124_5dee_11eb_a48b_a7fa59d09b32row1_col1 {\n",
       "            background-color:  #b40426;\n",
       "            color:  #f1f1f1;\n",
       "        }    #T_df4fd124_5dee_11eb_a48b_a7fa59d09b32row1_col2 {\n",
       "            background-color:  #3b4cc0;\n",
       "            color:  #f1f1f1;\n",
       "        }    #T_df4fd124_5dee_11eb_a48b_a7fa59d09b32row1_col3 {\n",
       "            background-color:  #536edd;\n",
       "            color:  #000000;\n",
       "        }    #T_df4fd124_5dee_11eb_a48b_a7fa59d09b32row1_col4 {\n",
       "            background-color:  #4358cb;\n",
       "            color:  #f1f1f1;\n",
       "        }    #T_df4fd124_5dee_11eb_a48b_a7fa59d09b32row2_col0 {\n",
       "            background-color:  #3b4cc0;\n",
       "            color:  #f1f1f1;\n",
       "        }    #T_df4fd124_5dee_11eb_a48b_a7fa59d09b32row2_col1 {\n",
       "            background-color:  #3b4cc0;\n",
       "            color:  #f1f1f1;\n",
       "        }    #T_df4fd124_5dee_11eb_a48b_a7fa59d09b32row2_col2 {\n",
       "            background-color:  #b40426;\n",
       "            color:  #f1f1f1;\n",
       "        }    #T_df4fd124_5dee_11eb_a48b_a7fa59d09b32row2_col3 {\n",
       "            background-color:  #3b4cc0;\n",
       "            color:  #f1f1f1;\n",
       "        }    #T_df4fd124_5dee_11eb_a48b_a7fa59d09b32row2_col4 {\n",
       "            background-color:  #445acc;\n",
       "            color:  #f1f1f1;\n",
       "        }    #T_df4fd124_5dee_11eb_a48b_a7fa59d09b32row3_col0 {\n",
       "            background-color:  #7597f6;\n",
       "            color:  #000000;\n",
       "        }    #T_df4fd124_5dee_11eb_a48b_a7fa59d09b32row3_col1 {\n",
       "            background-color:  #6485ec;\n",
       "            color:  #000000;\n",
       "        }    #T_df4fd124_5dee_11eb_a48b_a7fa59d09b32row3_col2 {\n",
       "            background-color:  #4c66d6;\n",
       "            color:  #000000;\n",
       "        }    #T_df4fd124_5dee_11eb_a48b_a7fa59d09b32row3_col3 {\n",
       "            background-color:  #b40426;\n",
       "            color:  #f1f1f1;\n",
       "        }    #T_df4fd124_5dee_11eb_a48b_a7fa59d09b32row3_col4 {\n",
       "            background-color:  #9dbdff;\n",
       "            color:  #000000;\n",
       "        }    #T_df4fd124_5dee_11eb_a48b_a7fa59d09b32row4_col0 {\n",
       "            background-color:  #4e68d8;\n",
       "            color:  #000000;\n",
       "        }    #T_df4fd124_5dee_11eb_a48b_a7fa59d09b32row4_col1 {\n",
       "            background-color:  #6e90f2;\n",
       "            color:  #000000;\n",
       "        }    #T_df4fd124_5dee_11eb_a48b_a7fa59d09b32row4_col2 {\n",
       "            background-color:  #6f92f3;\n",
       "            color:  #000000;\n",
       "        }    #T_df4fd124_5dee_11eb_a48b_a7fa59d09b32row4_col3 {\n",
       "            background-color:  #b1cbfc;\n",
       "            color:  #000000;\n",
       "        }    #T_df4fd124_5dee_11eb_a48b_a7fa59d09b32row4_col4 {\n",
       "            background-color:  #b40426;\n",
       "            color:  #f1f1f1;\n",
       "        }</style><table id=\"T_df4fd124_5dee_11eb_a48b_a7fa59d09b32\" ><thead>    <tr>        <th class=\"blank level0\" ></th>        <th class=\"col_heading level0 col0\" >Sensor1_max</th>        <th class=\"col_heading level0 col1\" >Sensor2_max</th>        <th class=\"col_heading level0 col2\" >Sensor3_min</th>        <th class=\"col_heading level0 col3\" >Latency</th>        <th class=\"col_heading level0 col4\" >UES_Duration</th>    </tr></thead><tbody>\n",
       "                <tr>\n",
       "                        <th id=\"T_df4fd124_5dee_11eb_a48b_a7fa59d09b32level0_row0\" class=\"row_heading level0 row0\" >Sensor1_max</th>\n",
       "                        <td id=\"T_df4fd124_5dee_11eb_a48b_a7fa59d09b32row0_col0\" class=\"data row0 col0\" >1</td>\n",
       "                        <td id=\"T_df4fd124_5dee_11eb_a48b_a7fa59d09b32row0_col1\" class=\"data row0 col1\" >-0.0346022</td>\n",
       "                        <td id=\"T_df4fd124_5dee_11eb_a48b_a7fa59d09b32row0_col2\" class=\"data row0 col2\" >-0.038871</td>\n",
       "                        <td id=\"T_df4fd124_5dee_11eb_a48b_a7fa59d09b32row0_col3\" class=\"data row0 col3\" >0.149575</td>\n",
       "                        <td id=\"T_df4fd124_5dee_11eb_a48b_a7fa59d09b32row0_col4\" class=\"data row0 col4\" >0.0296155</td>\n",
       "            </tr>\n",
       "            <tr>\n",
       "                        <th id=\"T_df4fd124_5dee_11eb_a48b_a7fa59d09b32level0_row1\" class=\"row_heading level0 row1\" >Sensor2_max</th>\n",
       "                        <td id=\"T_df4fd124_5dee_11eb_a48b_a7fa59d09b32row1_col0\" class=\"data row1 col0\" >-0.0346022</td>\n",
       "                        <td id=\"T_df4fd124_5dee_11eb_a48b_a7fa59d09b32row1_col1\" class=\"data row1 col1\" >1</td>\n",
       "                        <td id=\"T_df4fd124_5dee_11eb_a48b_a7fa59d09b32row1_col2\" class=\"data row1 col2\" >-0.124292</td>\n",
       "                        <td id=\"T_df4fd124_5dee_11eb_a48b_a7fa59d09b32row1_col3\" class=\"data row1 col3\" >0.0283056</td>\n",
       "                        <td id=\"T_df4fd124_5dee_11eb_a48b_a7fa59d09b32row1_col4\" class=\"data row1 col4\" >0.056447</td>\n",
       "            </tr>\n",
       "            <tr>\n",
       "                        <th id=\"T_df4fd124_5dee_11eb_a48b_a7fa59d09b32level0_row2\" class=\"row_heading level0 row2\" >Sensor3_min</th>\n",
       "                        <td id=\"T_df4fd124_5dee_11eb_a48b_a7fa59d09b32row2_col0\" class=\"data row2 col0\" >-0.038871</td>\n",
       "                        <td id=\"T_df4fd124_5dee_11eb_a48b_a7fa59d09b32row2_col1\" class=\"data row2 col1\" >-0.124292</td>\n",
       "                        <td id=\"T_df4fd124_5dee_11eb_a48b_a7fa59d09b32row2_col2\" class=\"data row2 col2\" >1</td>\n",
       "                        <td id=\"T_df4fd124_5dee_11eb_a48b_a7fa59d09b32row2_col3\" class=\"data row2 col3\" >-0.0584012</td>\n",
       "                        <td id=\"T_df4fd124_5dee_11eb_a48b_a7fa59d09b32row2_col4\" class=\"data row2 col4\" >0.063469</td>\n",
       "            </tr>\n",
       "            <tr>\n",
       "                        <th id=\"T_df4fd124_5dee_11eb_a48b_a7fa59d09b32level0_row3\" class=\"row_heading level0 row3\" >Latency</th>\n",
       "                        <td id=\"T_df4fd124_5dee_11eb_a48b_a7fa59d09b32row3_col0\" class=\"data row3 col0\" >0.149575</td>\n",
       "                        <td id=\"T_df4fd124_5dee_11eb_a48b_a7fa59d09b32row3_col1\" class=\"data row3 col1\" >0.0283056</td>\n",
       "                        <td id=\"T_df4fd124_5dee_11eb_a48b_a7fa59d09b32row3_col2\" class=\"data row3 col2\" >-0.0584012</td>\n",
       "                        <td id=\"T_df4fd124_5dee_11eb_a48b_a7fa59d09b32row3_col3\" class=\"data row3 col3\" >1</td>\n",
       "                        <td id=\"T_df4fd124_5dee_11eb_a48b_a7fa59d09b32row3_col4\" class=\"data row3 col4\" >0.316552</td>\n",
       "            </tr>\n",
       "            <tr>\n",
       "                        <th id=\"T_df4fd124_5dee_11eb_a48b_a7fa59d09b32level0_row4\" class=\"row_heading level0 row4\" >UES_Duration</th>\n",
       "                        <td id=\"T_df4fd124_5dee_11eb_a48b_a7fa59d09b32row4_col0\" class=\"data row4 col0\" >0.0296155</td>\n",
       "                        <td id=\"T_df4fd124_5dee_11eb_a48b_a7fa59d09b32row4_col1\" class=\"data row4 col1\" >0.056447</td>\n",
       "                        <td id=\"T_df4fd124_5dee_11eb_a48b_a7fa59d09b32row4_col2\" class=\"data row4 col2\" >0.063469</td>\n",
       "                        <td id=\"T_df4fd124_5dee_11eb_a48b_a7fa59d09b32row4_col3\" class=\"data row4 col3\" >0.316552</td>\n",
       "                        <td id=\"T_df4fd124_5dee_11eb_a48b_a7fa59d09b32row4_col4\" class=\"data row4 col4\" >1</td>\n",
       "            </tr>\n",
       "    </tbody></table>"
      ],
      "text/plain": [
       "<pandas.io.formats.style.Styler at 0x1912a2c3b08>"
      ]
     },
     "execution_count": 5,
     "metadata": {},
     "output_type": "execute_result"
    }
   ],
   "source": [
    "corr = data[[\"Sensor1_max\", \"Sensor2_max\", \"Sensor3_min\", \"Latency\", \"UES_Duration\"]].corr()\n",
    "corr.style.background_gradient(cmap='coolwarm')"
   ]
  },
  {
   "cell_type": "markdown",
   "metadata": {},
   "source": [
    "### Training and Test data split"
   ]
  },
  {
   "cell_type": "code",
   "execution_count": 6,
   "metadata": {},
   "outputs": [],
   "source": [
    "X_train, X_test, y_train, y_test = train_test_split(data[[\"Sensor1_max\", \"Sensor2_max\", \"Sensor3_min\", \"Latency\", \"UES_Duration\"]], data[[\"Label\"]], test_size=0.3, random_state=0)"
   ]
  },
  {
   "cell_type": "markdown",
   "metadata": {},
   "source": [
    "### Composition of Training and test data"
   ]
  },
  {
   "cell_type": "code",
   "execution_count": 7,
   "metadata": {},
   "outputs": [
    {
     "data": {
      "text/html": [
       "<div>\n",
       "<style scoped>\n",
       "    .dataframe tbody tr th:only-of-type {\n",
       "        vertical-align: middle;\n",
       "    }\n",
       "\n",
       "    .dataframe tbody tr th {\n",
       "        vertical-align: top;\n",
       "    }\n",
       "\n",
       "    .dataframe thead th {\n",
       "        text-align: right;\n",
       "    }\n",
       "</style>\n",
       "<table border=\"1\" class=\"dataframe\">\n",
       "  <thead>\n",
       "    <tr style=\"text-align: right;\">\n",
       "      <th></th>\n",
       "      <th>Label</th>\n",
       "    </tr>\n",
       "  </thead>\n",
       "  <tbody>\n",
       "    <tr>\n",
       "      <td>0</td>\n",
       "      <td>86</td>\n",
       "    </tr>\n",
       "    <tr>\n",
       "      <td>1</td>\n",
       "      <td>84</td>\n",
       "    </tr>\n",
       "  </tbody>\n",
       "</table>\n",
       "</div>"
      ],
      "text/plain": [
       "   Label\n",
       "0     86\n",
       "1     84"
      ]
     },
     "execution_count": 7,
     "metadata": {},
     "output_type": "execute_result"
    }
   ],
   "source": [
    "y_train.apply(pd.Series.value_counts)"
   ]
  },
  {
   "cell_type": "code",
   "execution_count": 8,
   "metadata": {},
   "outputs": [
    {
     "data": {
      "text/html": [
       "<div>\n",
       "<style scoped>\n",
       "    .dataframe tbody tr th:only-of-type {\n",
       "        vertical-align: middle;\n",
       "    }\n",
       "\n",
       "    .dataframe tbody tr th {\n",
       "        vertical-align: top;\n",
       "    }\n",
       "\n",
       "    .dataframe thead th {\n",
       "        text-align: right;\n",
       "    }\n",
       "</style>\n",
       "<table border=\"1\" class=\"dataframe\">\n",
       "  <thead>\n",
       "    <tr style=\"text-align: right;\">\n",
       "      <th></th>\n",
       "      <th>Label</th>\n",
       "    </tr>\n",
       "  </thead>\n",
       "  <tbody>\n",
       "    <tr>\n",
       "      <td>0</td>\n",
       "      <td>38</td>\n",
       "    </tr>\n",
       "    <tr>\n",
       "      <td>1</td>\n",
       "      <td>36</td>\n",
       "    </tr>\n",
       "  </tbody>\n",
       "</table>\n",
       "</div>"
      ],
      "text/plain": [
       "   Label\n",
       "0     38\n",
       "1     36"
      ]
     },
     "execution_count": 8,
     "metadata": {},
     "output_type": "execute_result"
    }
   ],
   "source": [
    "y_test.apply(pd.Series.value_counts)"
   ]
  },
  {
   "cell_type": "markdown",
   "metadata": {},
   "source": [
    "## Fitting a LightGBM Model"
   ]
  },
  {
   "cell_type": "code",
   "execution_count": 9,
   "metadata": {},
   "outputs": [
    {
     "name": "stderr",
     "output_type": "stream",
     "text": [
      "C:\\ProgramData\\Anaconda3\\lib\\site-packages\\sklearn\\preprocessing\\label.py:219: DataConversionWarning: A column-vector y was passed when a 1d array was expected. Please change the shape of y to (n_samples, ), for example using ravel().\n",
      "  y = column_or_1d(y, warn=True)\n",
      "C:\\ProgramData\\Anaconda3\\lib\\site-packages\\sklearn\\preprocessing\\label.py:252: DataConversionWarning: A column-vector y was passed when a 1d array was expected. Please change the shape of y to (n_samples, ), for example using ravel().\n",
      "  y = column_or_1d(y, warn=True)\n"
     ]
    },
    {
     "data": {
      "text/plain": [
       "LGBMClassifier(boosting_type='gbdt', class_weight=None, colsample_bytree=1.0,\n",
       "               importance_type='split', learning_rate=0.1, max_depth=-1,\n",
       "               min_child_samples=20, min_child_weight=0.001, min_split_gain=0.0,\n",
       "               n_estimators=100, n_jobs=-1, num_leaves=31, objective=None,\n",
       "               random_state=None, reg_alpha=0.0, reg_lambda=0.0, silent=True,\n",
       "               subsample=1.0, subsample_for_bin=200000, subsample_freq=0)"
      ]
     },
     "execution_count": 9,
     "metadata": {},
     "output_type": "execute_result"
    }
   ],
   "source": [
    "model = lgb.LGBMClassifier()\n",
    "model.fit(X_train, y_train)"
   ]
  },
  {
   "cell_type": "markdown",
   "metadata": {},
   "source": [
    "### Comparing Predicted and Actual values"
   ]
  },
  {
   "cell_type": "code",
   "execution_count": 10,
   "metadata": {},
   "outputs": [],
   "source": [
    "y_pred = model.predict(X_test)"
   ]
  },
  {
   "cell_type": "code",
   "execution_count": 11,
   "metadata": {},
   "outputs": [
    {
     "data": {
      "text/html": [
       "<div>\n",
       "<style scoped>\n",
       "    .dataframe tbody tr th:only-of-type {\n",
       "        vertical-align: middle;\n",
       "    }\n",
       "\n",
       "    .dataframe tbody tr th {\n",
       "        vertical-align: top;\n",
       "    }\n",
       "\n",
       "    .dataframe thead th {\n",
       "        text-align: right;\n",
       "    }\n",
       "</style>\n",
       "<table border=\"1\" class=\"dataframe\">\n",
       "  <thead>\n",
       "    <tr style=\"text-align: right;\">\n",
       "      <th></th>\n",
       "      <th>Predicted</th>\n",
       "      <th>Actual</th>\n",
       "    </tr>\n",
       "  </thead>\n",
       "  <tbody>\n",
       "    <tr>\n",
       "      <td>0</td>\n",
       "      <td>Unhealthy</td>\n",
       "      <td>Healthy</td>\n",
       "    </tr>\n",
       "    <tr>\n",
       "      <td>1</td>\n",
       "      <td>Unhealthy</td>\n",
       "      <td>Healthy</td>\n",
       "    </tr>\n",
       "    <tr>\n",
       "      <td>2</td>\n",
       "      <td>Unhealthy</td>\n",
       "      <td>Healthy</td>\n",
       "    </tr>\n",
       "    <tr>\n",
       "      <td>3</td>\n",
       "      <td>Healthy</td>\n",
       "      <td>Healthy</td>\n",
       "    </tr>\n",
       "    <tr>\n",
       "      <td>4</td>\n",
       "      <td>Unhealthy</td>\n",
       "      <td>Unhealthy</td>\n",
       "    </tr>\n",
       "    <tr>\n",
       "      <td>...</td>\n",
       "      <td>...</td>\n",
       "      <td>...</td>\n",
       "    </tr>\n",
       "    <tr>\n",
       "      <td>69</td>\n",
       "      <td>Unhealthy</td>\n",
       "      <td>Healthy</td>\n",
       "    </tr>\n",
       "    <tr>\n",
       "      <td>70</td>\n",
       "      <td>Healthy</td>\n",
       "      <td>Healthy</td>\n",
       "    </tr>\n",
       "    <tr>\n",
       "      <td>71</td>\n",
       "      <td>Unhealthy</td>\n",
       "      <td>Healthy</td>\n",
       "    </tr>\n",
       "    <tr>\n",
       "      <td>72</td>\n",
       "      <td>Unhealthy</td>\n",
       "      <td>Healthy</td>\n",
       "    </tr>\n",
       "    <tr>\n",
       "      <td>73</td>\n",
       "      <td>Healthy</td>\n",
       "      <td>Healthy</td>\n",
       "    </tr>\n",
       "  </tbody>\n",
       "</table>\n",
       "<p>74 rows × 2 columns</p>\n",
       "</div>"
      ],
      "text/plain": [
       "    Predicted     Actual\n",
       "0   Unhealthy    Healthy\n",
       "1   Unhealthy    Healthy\n",
       "2   Unhealthy    Healthy\n",
       "3     Healthy    Healthy\n",
       "4   Unhealthy  Unhealthy\n",
       "..        ...        ...\n",
       "69  Unhealthy    Healthy\n",
       "70    Healthy    Healthy\n",
       "71  Unhealthy    Healthy\n",
       "72  Unhealthy    Healthy\n",
       "73    Healthy    Healthy\n",
       "\n",
       "[74 rows x 2 columns]"
      ]
     },
     "execution_count": 11,
     "metadata": {},
     "output_type": "execute_result"
    }
   ],
   "source": [
    "pred = pd.DataFrame(y_pred)\n",
    "pred[\"Predicted\"] = np.where(pred[0] == 0, \"Healthy\", \"Unhealthy\")\n",
    "pred[\"Actual\"] = np.where(y_test[\"Label\"] == 0, \"Healthy\", \"Unhealthy\")\n",
    "pred[[\"Predicted\", \"Actual\"]]"
   ]
  },
  {
   "cell_type": "markdown",
   "metadata": {},
   "source": [
    "### Confusion Matrix"
   ]
  },
  {
   "cell_type": "code",
   "execution_count": 12,
   "metadata": {},
   "outputs": [
    {
     "name": "stdout",
     "output_type": "stream",
     "text": [
      "[[19 19]\n",
      " [12 24]]\n"
     ]
    },
    {
     "data": {
      "text/plain": [
       "<Figure size 504x504 with 0 Axes>"
      ]
     },
     "metadata": {},
     "output_type": "display_data"
    }
   ],
   "source": [
    "from sklearn.metrics import confusion_matrix\n",
    "confusion_matrix = metrics.confusion_matrix(y_test, y_pred)\n",
    "print(confusion_matrix)\n",
    "plt.figure(figsize = (7,7))\n",
    "sns.set(font_scale=1.5)"
   ]
  },
  {
   "cell_type": "markdown",
   "metadata": {},
   "source": [
    "### Model Evaluation metrics"
   ]
  },
  {
   "cell_type": "code",
   "execution_count": 13,
   "metadata": {},
   "outputs": [
    {
     "name": "stdout",
     "output_type": "stream",
     "text": [
      "              precision    recall  f1-score   support\n",
      "\n",
      "           0       0.61      0.50      0.55        38\n",
      "           1       0.56      0.67      0.61        36\n",
      "\n",
      "    accuracy                           0.58        74\n",
      "   macro avg       0.59      0.58      0.58        74\n",
      "weighted avg       0.59      0.58      0.58        74\n",
      "\n"
     ]
    }
   ],
   "source": [
    "from sklearn.metrics import classification_report\n",
    "print(classification_report(y_test, y_pred))"
   ]
  },
  {
   "cell_type": "markdown",
   "metadata": {},
   "source": [
    "# Hyperparameter tuning in Light GBM"
   ]
  },
  {
   "cell_type": "markdown",
   "metadata": {},
   "source": [
    "## Evaluating best performing parameters"
   ]
  },
  {
   "cell_type": "code",
   "execution_count": 14,
   "metadata": {},
   "outputs": [],
   "source": [
    "from sklearn.model_selection import RandomizedSearchCV, GridSearchCV\n",
    "param_grid = {\n",
    "    'max_depth': [4, 6, 10],\n",
    "    'learning_rate': [0.1, 0.01, 0.001, ],\n",
    "    'num_iteration': [100, 200, 400, 600 ],\n",
    "    'n_estimators': [100, 300, 500]\n",
    "}"
   ]
  },
  {
   "cell_type": "code",
   "execution_count": 15,
   "metadata": {},
   "outputs": [],
   "source": [
    "random_search = RandomizedSearchCV(model, param_distributions=param_grid, verbose = 3, cv=6, scoring=\"recall\")"
   ]
  },
  {
   "cell_type": "code",
   "execution_count": 16,
   "metadata": {},
   "outputs": [
    {
     "name": "stdout",
     "output_type": "stream",
     "text": [
      "Fitting 6 folds for each of 10 candidates, totalling 60 fits\n",
      "[CV] num_iteration=600, n_estimators=300, max_depth=6, learning_rate=0.1 \n",
      "[LightGBM] [Warning] num_iterations is set=600, num_iteration=600 will be ignored. Current value: num_iterations=600\n",
      "[LightGBM] [Warning] Accuracy may be bad since you didn't explicitly set num_leaves OR 2^max_depth > num_leaves. (num_leaves=31).\n",
      "[CV]  num_iteration=600, n_estimators=300, max_depth=6, learning_rate=0.1, score=0.500, total=   0.2s"
     ]
    },
    {
     "name": "stderr",
     "output_type": "stream",
     "text": [
      "[Parallel(n_jobs=1)]: Using backend SequentialBackend with 1 concurrent workers.\n",
      "C:\\ProgramData\\Anaconda3\\lib\\site-packages\\sklearn\\preprocessing\\label.py:219: DataConversionWarning: A column-vector y was passed when a 1d array was expected. Please change the shape of y to (n_samples, ), for example using ravel().\n",
      "  y = column_or_1d(y, warn=True)\n",
      "C:\\ProgramData\\Anaconda3\\lib\\site-packages\\sklearn\\preprocessing\\label.py:252: DataConversionWarning: A column-vector y was passed when a 1d array was expected. Please change the shape of y to (n_samples, ), for example using ravel().\n",
      "  y = column_or_1d(y, warn=True)\n",
      "C:\\ProgramData\\Anaconda3\\lib\\site-packages\\lightgbm\\engine.py:151: UserWarning: Found `num_iteration` in params. Will use it instead of argument\n",
      "  warnings.warn(\"Found `{}` in params. Will use it instead of argument\".format(alias))\n"
     ]
    },
    {
     "name": "stdout",
     "output_type": "stream",
     "text": [
      "\n",
      "[CV] num_iteration=600, n_estimators=300, max_depth=6, learning_rate=0.1 \n",
      "[LightGBM] [Warning] num_iterations is set=600, num_iteration=600 will be ignored. Current value: num_iterations=600\n",
      "[LightGBM] [Warning] Accuracy may be bad since you didn't explicitly set num_leaves OR 2^max_depth > num_leaves. (num_leaves=31).\n",
      "[CV]  num_iteration=600, n_estimators=300, max_depth=6, learning_rate=0.1, score=0.643, total=   0.2s\n",
      "[CV] num_iteration=600, n_estimators=300, max_depth=6, learning_rate=0.1 \n",
      "[LightGBM] [Warning] "
     ]
    },
    {
     "name": "stderr",
     "output_type": "stream",
     "text": [
      "[Parallel(n_jobs=1)]: Done   1 out of   1 | elapsed:    0.1s remaining:    0.0s\n",
      "[Parallel(n_jobs=1)]: Done   2 out of   2 | elapsed:    0.3s remaining:    0.0s\n"
     ]
    },
    {
     "name": "stdout",
     "output_type": "stream",
     "text": [
      "num_iterations is set=600, num_iteration=600 will be ignored. Current value: num_iterations=600\n",
      "[LightGBM] [Warning] Accuracy may be bad since you didn't explicitly set num_leaves OR 2^max_depth > num_leaves. (num_leaves=31).\n",
      "[CV]  num_iteration=600, n_estimators=300, max_depth=6, learning_rate=0.1, score=0.643, total=   0.2s\n",
      "[CV] num_iteration=600, n_estimators=300, max_depth=6, learning_rate=0.1 \n",
      "[LightGBM] [Warning] num_iterations is set=600, num_iteration=600 will be ignored. Current value: num_iterations=600\n",
      "[LightGBM] [Warning] Accuracy may be bad since you didn't explicitly set num_leaves OR 2^max_depth > num_leaves. (num_leaves=31).\n",
      "[CV]  num_iteration=600, n_estimators=300, max_depth=6, learning_rate=0.1, score=0.500, total=   0.2s\n",
      "[CV] num_iteration=600, n_estimators=300, max_depth=6, learning_rate=0.1 \n",
      "[LightGBM] [Warning] num_iterations is set=600, num_iteration=600 will be ignored. Current value: num_iterations=600\n",
      "[LightGBM] [Warning] Accuracy may be bad since you didn't explicitly set num_leaves OR 2^max_depth > num_leaves. (num_leaves=31).\n",
      "[CV]  num_iteration=600, n_estimators=300, max_depth=6, learning_rate=0.1, score=0.500, total=   0.2s\n",
      "[CV] num_iteration=600, n_estimators=300, max_depth=6, learning_rate=0.1 \n",
      "[LightGBM] [Warning] num_iterations is set=600, num_iteration=600 will be ignored. Current value: num_iterations=600\n",
      "[LightGBM] [Warning] Accuracy may be bad since you didn't explicitly set num_leaves OR 2^max_depth > num_leaves. (num_leaves=31).\n",
      "[CV]  num_iteration=600, n_estimators=300, max_depth=6, learning_rate=0.1, score=0.571, total=   0.2s\n",
      "[CV] num_iteration=600, n_estimators=300, max_depth=4, learning_rate=0.001 \n",
      "[LightGBM] [Warning] num_iterations is set=600, num_iteration=600 will be ignored. Current value: num_iterations=600\n",
      "[CV]  num_iteration=600, n_estimators=300, max_depth=4, learning_rate=0.001, score=0.500, total=   0.2s\n",
      "[CV] num_iteration=600, n_estimators=300, max_depth=4, learning_rate=0.001 \n",
      "[LightGBM] [Warning] num_iterations is set=600, num_iteration=600 will be ignored. Current value: num_iterations=600\n",
      "[CV]  num_iteration=600, n_estimators=300, max_depth=4, learning_rate=0.001, score=1.000, total=   0.2s\n",
      "[CV] num_iteration=600, n_estimators=300, max_depth=4, learning_rate=0.001 \n",
      "[LightGBM] [Warning] num_iterations is set=600, num_iteration=600 will be ignored. Current value: num_iterations=600\n",
      "[CV]  num_iteration=600, n_estimators=300, max_depth=4, learning_rate=0.001, score=0.643, total=   0.2s\n",
      "[CV] num_iteration=600, n_estimators=300, max_depth=4, learning_rate=0.001 \n",
      "[LightGBM] [Warning] num_iterations is set=600, num_iteration=600 will be ignored. Current value: num_iterations=600\n",
      "[CV]  num_iteration=600, n_estimators=300, max_depth=4, learning_rate=0.001, score=0.571, total=   0.2s\n",
      "[CV] num_iteration=600, n_estimators=300, max_depth=4, learning_rate=0.001 \n",
      "[LightGBM] [Warning] num_iterations is set=600, num_iteration=600 will be ignored. Current value: num_iterations=600\n",
      "[CV]  num_iteration=600, n_estimators=300, max_depth=4, learning_rate=0.001, score=0.857, total=   0.2s\n",
      "[CV] num_iteration=600, n_estimators=300, max_depth=4, learning_rate=0.001 \n",
      "[LightGBM] [Warning] num_iterations is set=600, num_iteration=600 will be ignored. Current value: num_iterations=600\n",
      "[CV]  num_iteration=600, n_estimators=300, max_depth=4, learning_rate=0.001, score=0.643, total=   0.2s\n",
      "[CV] num_iteration=400, n_estimators=300, max_depth=4, learning_rate=0.01 \n",
      "[LightGBM] [Warning] num_iterations is set=400, num_iteration=400 will be ignored. Current value: num_iterations=400\n",
      "[CV]  num_iteration=400, n_estimators=300, max_depth=4, learning_rate=0.01, score=0.571, total=   0.1s\n",
      "[CV] num_iteration=400, n_estimators=300, max_depth=4, learning_rate=0.01 \n",
      "[LightGBM] [Warning] num_iterations is set=400, num_iteration=400 will be ignored. Current value: num_iterations=400\n",
      "[CV]  num_iteration=400, n_estimators=300, max_depth=4, learning_rate=0.01, score=0.643, total=   0.1s\n",
      "[CV] num_iteration=400, n_estimators=300, max_depth=4, learning_rate=0.01 \n",
      "[LightGBM] [Warning] num_iterations is set=400, num_iteration=400 will be ignored. Current value: num_iterations=400\n",
      "[CV]  num_iteration=400, n_estimators=300, max_depth=4, learning_rate=0.01, score=0.643, total=   0.1s\n",
      "[CV] num_iteration=400, n_estimators=300, max_depth=4, learning_rate=0.01 \n",
      "[LightGBM] [Warning] num_iterations is set=400, num_iteration=400 will be ignored. Current value: num_iterations=400\n",
      "[CV]  num_iteration=400, n_estimators=300, max_depth=4, learning_rate=0.01, score=0.500, total=   0.1s\n",
      "[CV] num_iteration=400, n_estimators=300, max_depth=4, learning_rate=0.01 \n",
      "[LightGBM] [Warning] num_iterations is set=400, num_iteration=400 will be ignored. Current value: num_iterations=400\n",
      "[CV]  num_iteration=400, n_estimators=300, max_depth=4, learning_rate=0.01, score=0.714, total=   0.1s\n",
      "[CV] num_iteration=400, n_estimators=300, max_depth=4, learning_rate=0.01 \n",
      "[LightGBM] [Warning] num_iterations is set=400, num_iteration=400 will be ignored. Current value: num_iterations=400\n",
      "[CV]  num_iteration=400, n_estimators=300, max_depth=4, learning_rate=0.01, score=0.643, total=   0.1s\n",
      "[CV] num_iteration=200, n_estimators=100, max_depth=4, learning_rate=0.01 \n",
      "[LightGBM] [Warning] num_iterations is set=200, num_iteration=200 will be ignored. Current value: num_iterations=200\n",
      "[CV]  num_iteration=200, n_estimators=100, max_depth=4, learning_rate=0.01, score=0.500, total=   0.1s\n",
      "[CV] num_iteration=200, n_estimators=100, max_depth=4, learning_rate=0.01 \n",
      "[LightGBM] [Warning] num_iterations is set=200, num_iteration=200 will be ignored. Current value: num_iterations=200\n",
      "[CV]  num_iteration=200, n_estimators=100, max_depth=4, learning_rate=0.01, score=0.786, total=   0.1s\n",
      "[CV] num_iteration=200, n_estimators=100, max_depth=4, learning_rate=0.01 \n",
      "[LightGBM] [Warning] num_iterations is set=200, num_iteration=200 will be ignored. Current value: num_iterations=200\n",
      "[CV]  num_iteration=200, n_estimators=100, max_depth=4, learning_rate=0.01, score=0.571, total=   0.1s\n",
      "[CV] num_iteration=200, n_estimators=100, max_depth=4, learning_rate=0.01 \n",
      "[LightGBM] [Warning] num_iterations is set=200, num_iteration=200 will be ignored. Current value: num_iterations=200\n",
      "[CV]  num_iteration=200, n_estimators=100, max_depth=4, learning_rate=0.01, score=0.500, total=   0.1s\n",
      "[CV] num_iteration=200, n_estimators=100, max_depth=4, learning_rate=0.01 \n",
      "[LightGBM] [Warning] num_iterations is set=200, num_iteration=200 will be ignored. Current value: num_iterations=200\n",
      "[CV]  num_iteration=200, n_estimators=100, max_depth=4, learning_rate=0.01, score=0.786, total=   0.1s\n",
      "[CV] num_iteration=200, n_estimators=100, max_depth=4, learning_rate=0.01 \n",
      "[LightGBM] [Warning] num_iterations is set=200, num_iteration=200 will be ignored. Current value: num_iterations=200\n",
      "[CV]  num_iteration=200, n_estimators=100, max_depth=4, learning_rate=0.01, score=0.643, total=   0.1s\n",
      "[CV] num_iteration=600, n_estimators=100, max_depth=4, learning_rate=0.001 \n",
      "[LightGBM] [Warning] num_iterations is set=600, num_iteration=600 will be ignored. Current value: num_iterations=600\n",
      "[CV]  num_iteration=600, n_estimators=100, max_depth=4, learning_rate=0.001, score=0.500, total=   0.1s\n",
      "[CV] num_iteration=600, n_estimators=100, max_depth=4, learning_rate=0.001 \n",
      "[LightGBM] [Warning] num_iterations is set=600, num_iteration=600 will be ignored. Current value: num_iterations=600\n",
      "[CV]  num_iteration=600, n_estimators=100, max_depth=4, learning_rate=0.001, score=1.000, total=   0.1s\n",
      "[CV] num_iteration=600, n_estimators=100, max_depth=4, learning_rate=0.001 \n",
      "[LightGBM] [Warning] num_iterations is set=600, num_iteration=600 will be ignored. Current value: num_iterations=600\n",
      "[CV]  num_iteration=600, n_estimators=100, max_depth=4, learning_rate=0.001, score=0.643, total=   0.2s\n",
      "[CV] num_iteration=600, n_estimators=100, max_depth=4, learning_rate=0.001 \n",
      "[LightGBM] [Warning] num_iterations is set=600, num_iteration=600 will be ignored. Current value: num_iterations=600\n",
      "[CV]  num_iteration=600, n_estimators=100, max_depth=4, learning_rate=0.001, score=0.571, total=   0.1s\n",
      "[CV] num_iteration=600, n_estimators=100, max_depth=4, learning_rate=0.001 \n",
      "[LightGBM] [Warning] num_iterations is set=600, num_iteration=600 will be ignored. Current value: num_iterations=600\n",
      "[CV]  num_iteration=600, n_estimators=100, max_depth=4, learning_rate=0.001, score=0.857, total=   0.2s\n",
      "[CV] num_iteration=600, n_estimators=100, max_depth=4, learning_rate=0.001 \n",
      "[LightGBM] [Warning] num_iterations is set=600, num_iteration=600 will be ignored. Current value: num_iterations=600\n",
      "[CV]  num_iteration=600, n_estimators=100, max_depth=4, learning_rate=0.001, score=0.643, total=   0.2s\n",
      "[CV] num_iteration=100, n_estimators=300, max_depth=6, learning_rate=0.01 \n",
      "[LightGBM] [Warning] num_iterations is set=100, num_iteration=100 will be ignored. Current value: num_iterations=100\n",
      "[LightGBM] [Warning] Accuracy may be bad since you didn't explicitly set num_leaves OR 2^max_depth > num_leaves. (num_leaves=31).\n",
      "[CV]  num_iteration=100, n_estimators=300, max_depth=6, learning_rate=0.01, score=0.500, total=   0.0s\n",
      "[CV] num_iteration=100, n_estimators=300, max_depth=6, learning_rate=0.01 \n",
      "[LightGBM] [Warning] num_iterations is set=100, num_iteration=100 will be ignored. Current value: num_iterations=100\n",
      "[LightGBM] [Warning] Accuracy may be bad since you didn't explicitly set num_leaves OR 2^max_depth > num_leaves. (num_leaves=31).\n",
      "[CV]  num_iteration=100, n_estimators=300, max_depth=6, learning_rate=0.01, score=0.929, total=   0.0s\n",
      "[CV] num_iteration=100, n_estimators=300, max_depth=6, learning_rate=0.01 \n",
      "[LightGBM] [Warning] num_iterations is set=100, num_iteration=100 will be ignored. Current value: num_iterations=100\n",
      "[LightGBM] [Warning] Accuracy may be bad since you didn't explicitly set num_leaves OR 2^max_depth > num_leaves. (num_leaves=31).\n",
      "[CV]  num_iteration=100, n_estimators=300, max_depth=6, learning_rate=0.01, score=0.643, total=   0.0s\n",
      "[CV] num_iteration=100, n_estimators=300, max_depth=6, learning_rate=0.01 \n",
      "[LightGBM] [Warning] num_iterations is set=100, num_iteration=100 will be ignored. Current value: num_iterations=100\n",
      "[LightGBM] [Warning] Accuracy may be bad since you didn't explicitly set num_leaves OR 2^max_depth > num_leaves. (num_leaves=31).\n",
      "[CV]  num_iteration=100, n_estimators=300, max_depth=6, learning_rate=0.01, score=0.500, total=   0.0s\n",
      "[CV] num_iteration=100, n_estimators=300, max_depth=6, learning_rate=0.01 \n",
      "[LightGBM] [Warning] num_iterations is set=100, num_iteration=100 will be ignored. Current value: num_iterations=100\n",
      "[LightGBM] [Warning] Accuracy may be bad since you didn't explicitly set num_leaves OR 2^max_depth > num_leaves. (num_leaves=31).\n",
      "[CV]  num_iteration=100, n_estimators=300, max_depth=6, learning_rate=0.01, score=0.857, total=   0.0s\n",
      "[CV] num_iteration=100, n_estimators=300, max_depth=6, learning_rate=0.01 \n",
      "[LightGBM] [Warning] num_iterations is set=100, num_iteration=100 will be ignored. Current value: num_iterations=100\n",
      "[LightGBM] [Warning] Accuracy may be bad since you didn't explicitly set num_leaves OR 2^max_depth > num_leaves. (num_leaves=31).\n",
      "[CV]  num_iteration=100, n_estimators=300, max_depth=6, learning_rate=0.01, score=0.643, total=   0.1s\n",
      "[CV] num_iteration=200, n_estimators=500, max_depth=4, learning_rate=0.1 \n",
      "[LightGBM] [Warning] num_iterations is set=200, num_iteration=200 will be ignored. Current value: num_iterations=200\n",
      "[CV]  num_iteration=200, n_estimators=500, max_depth=4, learning_rate=0.1, score=0.500, total=   0.1s\n",
      "[CV] num_iteration=200, n_estimators=500, max_depth=4, learning_rate=0.1 \n",
      "[LightGBM] [Warning] num_iterations is set=200, num_iteration=200 will be ignored. Current value: num_iterations=200\n",
      "[CV]  num_iteration=200, n_estimators=500, max_depth=4, learning_rate=0.1, score=0.571, total=   0.1s\n",
      "[CV] num_iteration=200, n_estimators=500, max_depth=4, learning_rate=0.1 \n",
      "[LightGBM] [Warning] num_iterations is set=200, num_iteration=200 will be ignored. Current value: num_iterations=200\n",
      "[CV]  num_iteration=200, n_estimators=500, max_depth=4, learning_rate=0.1, score=0.714, total=   0.1s\n",
      "[CV] num_iteration=200, n_estimators=500, max_depth=4, learning_rate=0.1 \n",
      "[LightGBM] [Warning] num_iterations is set=200, num_iteration=200 will be ignored. Current value: num_iterations=200\n",
      "[CV]  num_iteration=200, n_estimators=500, max_depth=4, learning_rate=0.1, score=0.500, total=   0.1s\n",
      "[CV] num_iteration=200, n_estimators=500, max_depth=4, learning_rate=0.1 \n",
      "[LightGBM] [Warning] num_iterations is set=200, num_iteration=200 will be ignored. Current value: num_iterations=200\n",
      "[CV]  num_iteration=200, n_estimators=500, max_depth=4, learning_rate=0.1, score=0.571, total=   0.1s\n",
      "[CV] num_iteration=200, n_estimators=500, max_depth=4, learning_rate=0.1 \n",
      "[LightGBM] [Warning] num_iterations is set=200, num_iteration=200 will be ignored. Current value: num_iterations=200\n",
      "[CV]  num_iteration=200, n_estimators=500, max_depth=4, learning_rate=0.1, score=0.571, total=   0.1s\n",
      "[CV] num_iteration=200, n_estimators=500, max_depth=10, learning_rate=0.01 \n",
      "[LightGBM] [Warning] num_iterations is set=200, num_iteration=200 will be ignored. Current value: num_iterations=200\n",
      "[LightGBM] [Warning] Accuracy may be bad since you didn't explicitly set num_leaves OR 2^max_depth > num_leaves. (num_leaves=31).\n",
      "[CV]  num_iteration=200, n_estimators=500, max_depth=10, learning_rate=0.01, score=0.500, total=   0.1s\n",
      "[CV] num_iteration=200, n_estimators=500, max_depth=10, learning_rate=0.01 \n",
      "[LightGBM] [Warning] num_iterations is set=200, num_iteration=200 will be ignored. Current value: num_iterations=200\n",
      "[LightGBM] [Warning] Accuracy may be bad since you didn't explicitly set num_leaves OR 2^max_depth > num_leaves. (num_leaves=31).\n",
      "[CV]  num_iteration=200, n_estimators=500, max_depth=10, learning_rate=0.01, score=0.786, total=   0.1s\n",
      "[CV] num_iteration=200, n_estimators=500, max_depth=10, learning_rate=0.01 \n",
      "[LightGBM] [Warning] num_iterations is set=200, num_iteration=200 will be ignored. Current value: num_iterations=200\n",
      "[LightGBM] [Warning] Accuracy may be bad since you didn't explicitly set num_leaves OR 2^max_depth > num_leaves. (num_leaves=31).\n",
      "[CV]  num_iteration=200, n_estimators=500, max_depth=10, learning_rate=0.01, score=0.571, total=   0.1s\n",
      "[CV] num_iteration=200, n_estimators=500, max_depth=10, learning_rate=0.01 \n",
      "[LightGBM] [Warning] num_iterations is set=200, num_iteration=200 will be ignored. Current value: num_iterations=200\n",
      "[LightGBM] [Warning] Accuracy may be bad since you didn't explicitly set num_leaves OR 2^max_depth > num_leaves. (num_leaves=31).\n",
      "[CV]  num_iteration=200, n_estimators=500, max_depth=10, learning_rate=0.01, score=0.500, total=   0.1s\n",
      "[CV] num_iteration=200, n_estimators=500, max_depth=10, learning_rate=0.01 \n",
      "[LightGBM] [Warning] num_iterations is set=200, num_iteration=200 will be ignored. Current value: num_iterations=200\n",
      "[LightGBM] [Warning] Accuracy may be bad since you didn't explicitly set num_leaves OR 2^max_depth > num_leaves. (num_leaves=31).\n",
      "[CV]  num_iteration=200, n_estimators=500, max_depth=10, learning_rate=0.01, score=0.786, total=   0.1s\n",
      "[CV] num_iteration=200, n_estimators=500, max_depth=10, learning_rate=0.01 \n",
      "[LightGBM] [Warning] num_iterations is set=200, num_iteration=200 will be ignored. Current value: num_iterations=200\n",
      "[LightGBM] [Warning] Accuracy may be bad since you didn't explicitly set num_leaves OR 2^max_depth > num_leaves. (num_leaves=31).\n",
      "[CV]  num_iteration=200, n_estimators=500, max_depth=10, learning_rate=0.01, score=0.643, total=   0.1s\n",
      "[CV] num_iteration=400, n_estimators=100, max_depth=4, learning_rate=0.1 \n",
      "[LightGBM] [Warning] num_iterations is set=400, num_iteration=400 will be ignored. Current value: num_iterations=400\n",
      "[CV]  num_iteration=400, n_estimators=100, max_depth=4, learning_rate=0.1, score=0.571, total=   0.1s\n",
      "[CV] num_iteration=400, n_estimators=100, max_depth=4, learning_rate=0.1 \n",
      "[LightGBM] [Warning] num_iterations is set=400, num_iteration=400 will be ignored. Current value: num_iterations=400\n",
      "[CV]  num_iteration=400, n_estimators=100, max_depth=4, learning_rate=0.1, score=0.643, total=   0.1s\n",
      "[CV] num_iteration=400, n_estimators=100, max_depth=4, learning_rate=0.1 \n",
      "[LightGBM] [Warning] num_iterations is set=400, num_iteration=400 will be ignored. Current value: num_iterations=400\n",
      "[CV]  num_iteration=400, n_estimators=100, max_depth=4, learning_rate=0.1, score=0.643, total=   0.1s\n",
      "[CV] num_iteration=400, n_estimators=100, max_depth=4, learning_rate=0.1 \n",
      "[LightGBM] [Warning] num_iterations is set=400, num_iteration=400 will be ignored. Current value: num_iterations=400\n",
      "[CV]  num_iteration=400, n_estimators=100, max_depth=4, learning_rate=0.1, score=0.500, total=   0.1s\n",
      "[CV] num_iteration=400, n_estimators=100, max_depth=4, learning_rate=0.1 \n",
      "[LightGBM] [Warning] num_iterations is set=400, num_iteration=400 will be ignored. Current value: num_iterations=400\n",
      "[CV]  num_iteration=400, n_estimators=100, max_depth=4, learning_rate=0.1, score=0.429, total=   0.1s\n",
      "[CV] num_iteration=400, n_estimators=100, max_depth=4, learning_rate=0.1 \n",
      "[LightGBM] [Warning] num_iterations is set=400, num_iteration=400 will be ignored. Current value: num_iterations=400\n",
      "[CV]  num_iteration=400, n_estimators=100, max_depth=4, learning_rate=0.1, score=0.571, total=   0.1s\n",
      "[CV] num_iteration=200, n_estimators=500, max_depth=10, learning_rate=0.001 \n",
      "[LightGBM] [Warning] num_iterations is set=200, num_iteration=200 will be ignored. Current value: num_iterations=200\n",
      "[LightGBM] [Warning] Accuracy may be bad since you didn't explicitly set num_leaves OR 2^max_depth > num_leaves. (num_leaves=31).\n",
      "[CV]  num_iteration=200, n_estimators=500, max_depth=10, learning_rate=0.001, score=0.714, total=   0.1s\n",
      "[CV] num_iteration=200, n_estimators=500, max_depth=10, learning_rate=0.001 \n",
      "[LightGBM] [Warning] num_iterations is set=200, num_iteration=200 will be ignored. Current value: num_iterations=200\n",
      "[LightGBM] [Warning] Accuracy may be bad since you didn't explicitly set num_leaves OR 2^max_depth > num_leaves. (num_leaves=31).\n",
      "[CV]  num_iteration=200, n_estimators=500, max_depth=10, learning_rate=0.001, score=1.000, total=   0.1s\n",
      "[CV] num_iteration=200, n_estimators=500, max_depth=10, learning_rate=0.001 \n",
      "[LightGBM] [Warning] num_iterations is set=200, num_iteration=200 will be ignored. Current value: num_iterations=200\n",
      "[LightGBM] [Warning] Accuracy may be bad since you didn't explicitly set num_leaves OR 2^max_depth > num_leaves. (num_leaves=31).\n",
      "[CV]  num_iteration=200, n_estimators=500, max_depth=10, learning_rate=0.001, score=0.643, total=   0.1s\n",
      "[CV] num_iteration=200, n_estimators=500, max_depth=10, learning_rate=0.001 \n",
      "[LightGBM] [Warning] num_iterations is set=200, num_iteration=200 will be ignored. Current value: num_iterations=200\n",
      "[LightGBM] [Warning] Accuracy may be bad since you didn't explicitly set num_leaves OR 2^max_depth > num_leaves. (num_leaves=31).\n",
      "[CV]  num_iteration=200, n_estimators=500, max_depth=10, learning_rate=0.001, score=0.357, total=   0.1s\n",
      "[CV] num_iteration=200, n_estimators=500, max_depth=10, learning_rate=0.001 \n",
      "[LightGBM] [Warning] num_iterations is set=200, num_iteration=200 will be ignored. Current value: num_iterations=200\n",
      "[LightGBM] [Warning] Accuracy may be bad since you didn't explicitly set num_leaves OR 2^max_depth > num_leaves. (num_leaves=31).\n",
      "[CV]  num_iteration=200, n_estimators=500, max_depth=10, learning_rate=0.001, score=0.857, total=   0.1s\n",
      "[CV] num_iteration=200, n_estimators=500, max_depth=10, learning_rate=0.001 \n",
      "[LightGBM] [Warning] num_iterations is set=200, num_iteration=200 will be ignored. Current value: num_iterations=200\n",
      "[LightGBM] [Warning] Accuracy may be bad since you didn't explicitly set num_leaves OR 2^max_depth > num_leaves. (num_leaves=31).\n",
      "[CV]  num_iteration=200, n_estimators=500, max_depth=10, learning_rate=0.001, score=0.571, total=   0.1s\n",
      "[LightGBM] [Warning] num_iterations is set=600, num_iteration=600 will be ignored. Current value: num_iterations=600\n"
     ]
    },
    {
     "name": "stderr",
     "output_type": "stream",
     "text": [
      "[Parallel(n_jobs=1)]: Done  60 out of  60 | elapsed:    6.3s finished\n",
      "C:\\ProgramData\\Anaconda3\\lib\\site-packages\\sklearn\\model_selection\\_search.py:814: DeprecationWarning: The default of the `iid` parameter will change from True to False in version 0.22 and will be removed in 0.24. This will change numeric results when test-set sizes are unequal.\n",
      "  DeprecationWarning)\n"
     ]
    },
    {
     "data": {
      "text/plain": [
       "RandomizedSearchCV(cv=6, error_score='raise-deprecating',\n",
       "                   estimator=LGBMClassifier(boosting_type='gbdt',\n",
       "                                            class_weight=None,\n",
       "                                            colsample_bytree=1.0,\n",
       "                                            importance_type='split',\n",
       "                                            learning_rate=0.1, max_depth=-1,\n",
       "                                            min_child_samples=20,\n",
       "                                            min_child_weight=0.001,\n",
       "                                            min_split_gain=0.0,\n",
       "                                            n_estimators=100, n_jobs=-1,\n",
       "                                            num_leaves=31, objective=None,\n",
       "                                            random_state=None, reg_alpha=0.0,\n",
       "                                            reg...0.0, silent=True,\n",
       "                                            subsample=1.0,\n",
       "                                            subsample_for_bin=200000,\n",
       "                                            subsample_freq=0),\n",
       "                   iid='warn', n_iter=10, n_jobs=None,\n",
       "                   param_distributions={'learning_rate': [0.1, 0.01, 0.001],\n",
       "                                        'max_depth': [4, 6, 10],\n",
       "                                        'n_estimators': [100, 300, 500],\n",
       "                                        'num_iteration': [100, 200, 400, 600]},\n",
       "                   pre_dispatch='2*n_jobs', random_state=None, refit=True,\n",
       "                   return_train_score=False, scoring='recall', verbose=3)"
      ]
     },
     "execution_count": 16,
     "metadata": {},
     "output_type": "execute_result"
    }
   ],
   "source": [
    "random_search.fit(X_train, y_train)"
   ]
  },
  {
   "cell_type": "code",
   "execution_count": 17,
   "metadata": {},
   "outputs": [
    {
     "data": {
      "text/plain": [
       "LGBMClassifier(boosting_type='gbdt', class_weight=None, colsample_bytree=1.0,\n",
       "               importance_type='split', learning_rate=0.001, max_depth=4,\n",
       "               min_child_samples=20, min_child_weight=0.001, min_split_gain=0.0,\n",
       "               n_estimators=300, n_jobs=-1, num_iteration=600, num_leaves=31,\n",
       "               objective=None, random_state=None, reg_alpha=0.0, reg_lambda=0.0,\n",
       "               silent=True, subsample=1.0, subsample_for_bin=200000,\n",
       "               subsample_freq=0)"
      ]
     },
     "execution_count": 17,
     "metadata": {},
     "output_type": "execute_result"
    }
   ],
   "source": [
    "random_search.best_estimator_"
   ]
  },
  {
   "cell_type": "markdown",
   "metadata": {},
   "source": [
    "## Fitting a Logistic regression with best performing parameters"
   ]
  },
  {
   "cell_type": "code",
   "execution_count": 18,
   "metadata": {},
   "outputs": [
    {
     "data": {
      "text/plain": [
       "LGBMClassifier(boosting_type='gbdt', class_weight=None, colsample_bytree=1.0,\n",
       "               importance_type='split', learning_rate=0.001, max_depth=4,\n",
       "               min_child_samples=20, min_child_weight=0.001, min_split_gain=0.0,\n",
       "               n_estimators=300, n_jobs=-1, num_iteration=600, num_leaves=31,\n",
       "               objective=None, random_state=None, reg_alpha=0.0, reg_lambda=0.0,\n",
       "               silent=True, subsample=1.0, subsample_for_bin=200000,\n",
       "               subsample_freq=0)"
      ]
     },
     "execution_count": 18,
     "metadata": {},
     "output_type": "execute_result"
    }
   ],
   "source": [
    "logreg = random_search.best_estimator_\n",
    "logreg.fit(X_train, y_train)"
   ]
  },
  {
   "cell_type": "markdown",
   "metadata": {},
   "source": [
    "### Comparing Predicted and Actual values"
   ]
  },
  {
   "cell_type": "code",
   "execution_count": 19,
   "metadata": {},
   "outputs": [],
   "source": [
    "THRESHOLD = 0.5\n",
    "y_pred = np.where(logreg.predict_proba(X_test)[:,1] > THRESHOLD, 1, 0)"
   ]
  },
  {
   "cell_type": "code",
   "execution_count": 20,
   "metadata": {},
   "outputs": [
    {
     "data": {
      "text/html": [
       "<div>\n",
       "<style scoped>\n",
       "    .dataframe tbody tr th:only-of-type {\n",
       "        vertical-align: middle;\n",
       "    }\n",
       "\n",
       "    .dataframe tbody tr th {\n",
       "        vertical-align: top;\n",
       "    }\n",
       "\n",
       "    .dataframe thead th {\n",
       "        text-align: right;\n",
       "    }\n",
       "</style>\n",
       "<table border=\"1\" class=\"dataframe\">\n",
       "  <thead>\n",
       "    <tr style=\"text-align: right;\">\n",
       "      <th></th>\n",
       "      <th>Predicted</th>\n",
       "      <th>Actual</th>\n",
       "    </tr>\n",
       "  </thead>\n",
       "  <tbody>\n",
       "    <tr>\n",
       "      <td>0</td>\n",
       "      <td>Unhealthy</td>\n",
       "      <td>Healthy</td>\n",
       "    </tr>\n",
       "    <tr>\n",
       "      <td>1</td>\n",
       "      <td>Unhealthy</td>\n",
       "      <td>Healthy</td>\n",
       "    </tr>\n",
       "    <tr>\n",
       "      <td>2</td>\n",
       "      <td>Healthy</td>\n",
       "      <td>Healthy</td>\n",
       "    </tr>\n",
       "    <tr>\n",
       "      <td>3</td>\n",
       "      <td>Unhealthy</td>\n",
       "      <td>Healthy</td>\n",
       "    </tr>\n",
       "    <tr>\n",
       "      <td>4</td>\n",
       "      <td>Unhealthy</td>\n",
       "      <td>Unhealthy</td>\n",
       "    </tr>\n",
       "    <tr>\n",
       "      <td>...</td>\n",
       "      <td>...</td>\n",
       "      <td>...</td>\n",
       "    </tr>\n",
       "    <tr>\n",
       "      <td>69</td>\n",
       "      <td>Unhealthy</td>\n",
       "      <td>Healthy</td>\n",
       "    </tr>\n",
       "    <tr>\n",
       "      <td>70</td>\n",
       "      <td>Healthy</td>\n",
       "      <td>Healthy</td>\n",
       "    </tr>\n",
       "    <tr>\n",
       "      <td>71</td>\n",
       "      <td>Unhealthy</td>\n",
       "      <td>Healthy</td>\n",
       "    </tr>\n",
       "    <tr>\n",
       "      <td>72</td>\n",
       "      <td>Unhealthy</td>\n",
       "      <td>Healthy</td>\n",
       "    </tr>\n",
       "    <tr>\n",
       "      <td>73</td>\n",
       "      <td>Healthy</td>\n",
       "      <td>Healthy</td>\n",
       "    </tr>\n",
       "  </tbody>\n",
       "</table>\n",
       "<p>74 rows × 2 columns</p>\n",
       "</div>"
      ],
      "text/plain": [
       "    Predicted     Actual\n",
       "0   Unhealthy    Healthy\n",
       "1   Unhealthy    Healthy\n",
       "2     Healthy    Healthy\n",
       "3   Unhealthy    Healthy\n",
       "4   Unhealthy  Unhealthy\n",
       "..        ...        ...\n",
       "69  Unhealthy    Healthy\n",
       "70    Healthy    Healthy\n",
       "71  Unhealthy    Healthy\n",
       "72  Unhealthy    Healthy\n",
       "73    Healthy    Healthy\n",
       "\n",
       "[74 rows x 2 columns]"
      ]
     },
     "execution_count": 20,
     "metadata": {},
     "output_type": "execute_result"
    }
   ],
   "source": [
    "pred = pd.DataFrame(y_pred)\n",
    "pred[\"Predicted\"] = np.where(pred[0] == 0, \"Healthy\", \"Unhealthy\")\n",
    "pred[\"Actual\"] = np.where(y_test[\"Label\"] == 0, \"Healthy\", \"Unhealthy\")\n",
    "pred[[\"Predicted\", \"Actual\"]]"
   ]
  },
  {
   "cell_type": "markdown",
   "metadata": {},
   "source": [
    "## Recalculating Model Evaluation metrics for Model fitted with best performing parameters"
   ]
  },
  {
   "cell_type": "code",
   "execution_count": 21,
   "metadata": {},
   "outputs": [
    {
     "name": "stdout",
     "output_type": "stream",
     "text": [
      "              precision    recall  f1-score   support\n",
      "\n",
      "           0       0.72      0.47      0.57        38\n",
      "           1       0.59      0.81      0.68        36\n",
      "\n",
      "    accuracy                           0.64        74\n",
      "   macro avg       0.66      0.64      0.63        74\n",
      "weighted avg       0.66      0.64      0.63        74\n",
      "\n"
     ]
    }
   ],
   "source": [
    "from sklearn.metrics import classification_report\n",
    "print(classification_report(y_test, y_pred))"
   ]
  },
  {
   "cell_type": "code",
   "execution_count": 22,
   "metadata": {},
   "outputs": [
    {
     "name": "stdout",
     "output_type": "stream",
     "text": [
      "[[18 20]\n",
      " [ 7 29]]\n"
     ]
    },
    {
     "data": {
      "text/plain": [
       "<Figure size 504x504 with 0 Axes>"
      ]
     },
     "metadata": {},
     "output_type": "display_data"
    }
   ],
   "source": [
    "from sklearn.metrics import confusion_matrix\n",
    "confusion_matrix = metrics.confusion_matrix(y_test, y_pred)\n",
    "print(confusion_matrix)\n",
    "plt.figure(figsize = (7,7))\n",
    "sns.set(font_scale=1.5)"
   ]
  },
  {
   "cell_type": "code",
   "execution_count": null,
   "metadata": {},
   "outputs": [],
   "source": []
  }
 ],
 "metadata": {
  "kernelspec": {
   "display_name": "Python 3",
   "language": "python",
   "name": "python3"
  },
  "language_info": {
   "codemirror_mode": {
    "name": "ipython",
    "version": 3
   },
   "file_extension": ".py",
   "mimetype": "text/x-python",
   "name": "python",
   "nbconvert_exporter": "python",
   "pygments_lexer": "ipython3",
   "version": "3.7.4"
  }
 },
 "nbformat": 4,
 "nbformat_minor": 2
}
